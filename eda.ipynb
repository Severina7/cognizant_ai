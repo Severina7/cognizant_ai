{
  "cells": [
    {
      "cell_type": "markdown",
      "metadata": {
        "id": "view-in-github",
        "colab_type": "text"
      },
      "source": [
        "<a href=\"https://colab.research.google.com/github/Severina7/cognizant_ai/blob/main/eda.ipynb\" target=\"_parent\"><img src=\"https://colab.research.google.com/assets/colab-badge.svg\" alt=\"Open In Colab\"/></a>"
      ]
    },
    {
      "cell_type": "markdown",
      "metadata": {
        "id": "jpsxhP9Dr5Af"
      },
      "source": [
        "# Task 1 - Exploratory Data Analysis\n",
        "\n",
        "This notebook will walk you through this task interactively, meaning that once you've imported this notebook into `Google Colab`, you'll be able to run individual cells of code independantly, and see the results as you go.\n",
        "\n",
        "This notebooks is designed for users that have an understanding of Python and data analysis. There will be some helper functions and initial setup code provided, but it will be up to you to perform the analysis and to draw insights!\n",
        "\n",
        "---\n",
        "\n",
        "## Section 1 - Setup\n",
        "\n",
        "First, we need to mount this notebook to our Google Drive folder, in order to access the CSV data file. If you haven't already, watch this video https://www.youtube.com/watch?v=woHxvbBLarQ to help you mount your Google Drive folder."
      ]
    },
    {
      "cell_type": "code",
      "execution_count": 1,
      "metadata": {
        "colab": {
          "base_uri": "https://localhost:8080/"
        },
        "id": "rYuqKbngqhNP",
        "outputId": "865e9b88-ac7e-4086-bee5-9a2dcf79bc87"
      },
      "outputs": [
        {
          "output_type": "stream",
          "name": "stdout",
          "text": [
            "Drive already mounted at /content/drive; to attempt to forcibly remount, call drive.mount(\"/content/drive\", force_remount=True).\n"
          ]
        }
      ],
      "source": [
        "from google.colab import drive\n",
        "drive.mount('/content/drive')"
      ]
    },
    {
      "cell_type": "markdown",
      "metadata": {
        "id": "rgaQP4eos9jS"
      },
      "source": [
        "In order to view, analyse and manipulate the dataset, we must load it into something called a `dataframe`, which is a way of storing tabulated data in a virtual table. This dataframe will allow us to analyse the data freely. To load it into a dataframe, we will need a package called `Pandas`. We can install pandas with this command:"
      ]
    },
    {
      "cell_type": "code",
      "execution_count": 2,
      "metadata": {
        "id": "u5x18BTjqy3o"
      },
      "outputs": [],
      "source": [
        "# !pip install pandas"
      ]
    },
    {
      "cell_type": "markdown",
      "metadata": {
        "id": "Ur2OdJMttaGP"
      },
      "source": [
        "And now we can import this package like so:"
      ]
    },
    {
      "cell_type": "code",
      "execution_count": 3,
      "metadata": {
        "id": "_SP0zwPYq-ef"
      },
      "outputs": [],
      "source": [
        "import pandas as pd"
      ]
    },
    {
      "cell_type": "markdown",
      "metadata": {
        "id": "M5nmOA2Rtd2E"
      },
      "source": [
        "---\n",
        "\n",
        "## Section 2 - Data loading\n",
        "\n",
        "Now that Google Drive is mounted, you can store the CSV file anywhere in your Drive and update the `path` variable below to access it within this notebook. Once we've updated the `path`, let's read this CSV file into a pandas dataframe and see what it looks like"
      ]
    },
    {
      "cell_type": "code",
      "execution_count": 4,
      "metadata": {
        "colab": {
          "base_uri": "https://localhost:8080/",
          "height": 250
        },
        "id": "oDB-Ylm3q_wk",
        "outputId": "e3cda3f8-6c0d-488e-f962-ea4c150c322e"
      },
      "outputs": [
        {
          "output_type": "execute_result",
          "data": {
            "text/plain": [
              "                         transaction_id            timestamp  \\\n",
              "0  a1c82654-c52c-45b3-8ce8-4c2a1efe63ed  2022-03-02 09:51:38   \n",
              "1  931ad550-09e8-4da6-beaa-8c9d17be9c60  2022-03-06 10:33:59   \n",
              "2  ae133534-6f61-4cd6-b6b8-d1c1d8d90aea  2022-03-04 17:20:21   \n",
              "3  157cebd9-aaf0-475d-8a11-7c8e0f5b76e4  2022-03-02 17:23:58   \n",
              "4  a81a6cd3-5e0c-44a2-826c-aea43e46c514  2022-03-05 14:32:43   \n",
              "\n",
              "                             product_id category customer_type  unit_price  \\\n",
              "0  3bc6c1ea-0198-46de-9ffd-514ae3338713    fruit          gold        3.99   \n",
              "1  ad81b46c-bf38-41cf-9b54-5fe7f5eba93e    fruit      standard        3.99   \n",
              "2  7c55cbd4-f306-4c04-a030-628cbe7867c1    fruit       premium        0.19   \n",
              "3  80da8348-1707-403f-8be7-9e6deeccc883    fruit          gold        0.19   \n",
              "4  7f5e86e6-f06f-45f6-bf44-27b095c9ad1d    fruit         basic        4.49   \n",
              "\n",
              "   quantity  total payment_type  \n",
              "0         2   7.98     e-wallet  \n",
              "1         1   3.99     e-wallet  \n",
              "2         2   0.38     e-wallet  \n",
              "3         4   0.76     e-wallet  \n",
              "4         2   8.98   debit card  "
            ],
            "text/html": [
              "\n",
              "  <div id=\"df-c8de0131-d87f-4c0d-b8c2-9295dbe86cba\">\n",
              "    <div class=\"colab-df-container\">\n",
              "      <div>\n",
              "<style scoped>\n",
              "    .dataframe tbody tr th:only-of-type {\n",
              "        vertical-align: middle;\n",
              "    }\n",
              "\n",
              "    .dataframe tbody tr th {\n",
              "        vertical-align: top;\n",
              "    }\n",
              "\n",
              "    .dataframe thead th {\n",
              "        text-align: right;\n",
              "    }\n",
              "</style>\n",
              "<table border=\"1\" class=\"dataframe\">\n",
              "  <thead>\n",
              "    <tr style=\"text-align: right;\">\n",
              "      <th></th>\n",
              "      <th>transaction_id</th>\n",
              "      <th>timestamp</th>\n",
              "      <th>product_id</th>\n",
              "      <th>category</th>\n",
              "      <th>customer_type</th>\n",
              "      <th>unit_price</th>\n",
              "      <th>quantity</th>\n",
              "      <th>total</th>\n",
              "      <th>payment_type</th>\n",
              "    </tr>\n",
              "  </thead>\n",
              "  <tbody>\n",
              "    <tr>\n",
              "      <th>0</th>\n",
              "      <td>a1c82654-c52c-45b3-8ce8-4c2a1efe63ed</td>\n",
              "      <td>2022-03-02 09:51:38</td>\n",
              "      <td>3bc6c1ea-0198-46de-9ffd-514ae3338713</td>\n",
              "      <td>fruit</td>\n",
              "      <td>gold</td>\n",
              "      <td>3.99</td>\n",
              "      <td>2</td>\n",
              "      <td>7.98</td>\n",
              "      <td>e-wallet</td>\n",
              "    </tr>\n",
              "    <tr>\n",
              "      <th>1</th>\n",
              "      <td>931ad550-09e8-4da6-beaa-8c9d17be9c60</td>\n",
              "      <td>2022-03-06 10:33:59</td>\n",
              "      <td>ad81b46c-bf38-41cf-9b54-5fe7f5eba93e</td>\n",
              "      <td>fruit</td>\n",
              "      <td>standard</td>\n",
              "      <td>3.99</td>\n",
              "      <td>1</td>\n",
              "      <td>3.99</td>\n",
              "      <td>e-wallet</td>\n",
              "    </tr>\n",
              "    <tr>\n",
              "      <th>2</th>\n",
              "      <td>ae133534-6f61-4cd6-b6b8-d1c1d8d90aea</td>\n",
              "      <td>2022-03-04 17:20:21</td>\n",
              "      <td>7c55cbd4-f306-4c04-a030-628cbe7867c1</td>\n",
              "      <td>fruit</td>\n",
              "      <td>premium</td>\n",
              "      <td>0.19</td>\n",
              "      <td>2</td>\n",
              "      <td>0.38</td>\n",
              "      <td>e-wallet</td>\n",
              "    </tr>\n",
              "    <tr>\n",
              "      <th>3</th>\n",
              "      <td>157cebd9-aaf0-475d-8a11-7c8e0f5b76e4</td>\n",
              "      <td>2022-03-02 17:23:58</td>\n",
              "      <td>80da8348-1707-403f-8be7-9e6deeccc883</td>\n",
              "      <td>fruit</td>\n",
              "      <td>gold</td>\n",
              "      <td>0.19</td>\n",
              "      <td>4</td>\n",
              "      <td>0.76</td>\n",
              "      <td>e-wallet</td>\n",
              "    </tr>\n",
              "    <tr>\n",
              "      <th>4</th>\n",
              "      <td>a81a6cd3-5e0c-44a2-826c-aea43e46c514</td>\n",
              "      <td>2022-03-05 14:32:43</td>\n",
              "      <td>7f5e86e6-f06f-45f6-bf44-27b095c9ad1d</td>\n",
              "      <td>fruit</td>\n",
              "      <td>basic</td>\n",
              "      <td>4.49</td>\n",
              "      <td>2</td>\n",
              "      <td>8.98</td>\n",
              "      <td>debit card</td>\n",
              "    </tr>\n",
              "  </tbody>\n",
              "</table>\n",
              "</div>\n",
              "      <button class=\"colab-df-convert\" onclick=\"convertToInteractive('df-c8de0131-d87f-4c0d-b8c2-9295dbe86cba')\"\n",
              "              title=\"Convert this dataframe to an interactive table.\"\n",
              "              style=\"display:none;\">\n",
              "        \n",
              "  <svg xmlns=\"http://www.w3.org/2000/svg\" height=\"24px\"viewBox=\"0 0 24 24\"\n",
              "       width=\"24px\">\n",
              "    <path d=\"M0 0h24v24H0V0z\" fill=\"none\"/>\n",
              "    <path d=\"M18.56 5.44l.94 2.06.94-2.06 2.06-.94-2.06-.94-.94-2.06-.94 2.06-2.06.94zm-11 1L8.5 8.5l.94-2.06 2.06-.94-2.06-.94L8.5 2.5l-.94 2.06-2.06.94zm10 10l.94 2.06.94-2.06 2.06-.94-2.06-.94-.94-2.06-.94 2.06-2.06.94z\"/><path d=\"M17.41 7.96l-1.37-1.37c-.4-.4-.92-.59-1.43-.59-.52 0-1.04.2-1.43.59L10.3 9.45l-7.72 7.72c-.78.78-.78 2.05 0 2.83L4 21.41c.39.39.9.59 1.41.59.51 0 1.02-.2 1.41-.59l7.78-7.78 2.81-2.81c.8-.78.8-2.07 0-2.86zM5.41 20L4 18.59l7.72-7.72 1.47 1.35L5.41 20z\"/>\n",
              "  </svg>\n",
              "      </button>\n",
              "      \n",
              "  <style>\n",
              "    .colab-df-container {\n",
              "      display:flex;\n",
              "      flex-wrap:wrap;\n",
              "      gap: 12px;\n",
              "    }\n",
              "\n",
              "    .colab-df-convert {\n",
              "      background-color: #E8F0FE;\n",
              "      border: none;\n",
              "      border-radius: 50%;\n",
              "      cursor: pointer;\n",
              "      display: none;\n",
              "      fill: #1967D2;\n",
              "      height: 32px;\n",
              "      padding: 0 0 0 0;\n",
              "      width: 32px;\n",
              "    }\n",
              "\n",
              "    .colab-df-convert:hover {\n",
              "      background-color: #E2EBFA;\n",
              "      box-shadow: 0px 1px 2px rgba(60, 64, 67, 0.3), 0px 1px 3px 1px rgba(60, 64, 67, 0.15);\n",
              "      fill: #174EA6;\n",
              "    }\n",
              "\n",
              "    [theme=dark] .colab-df-convert {\n",
              "      background-color: #3B4455;\n",
              "      fill: #D2E3FC;\n",
              "    }\n",
              "\n",
              "    [theme=dark] .colab-df-convert:hover {\n",
              "      background-color: #434B5C;\n",
              "      box-shadow: 0px 1px 3px 1px rgba(0, 0, 0, 0.15);\n",
              "      filter: drop-shadow(0px 1px 2px rgba(0, 0, 0, 0.3));\n",
              "      fill: #FFFFFF;\n",
              "    }\n",
              "  </style>\n",
              "\n",
              "      <script>\n",
              "        const buttonEl =\n",
              "          document.querySelector('#df-c8de0131-d87f-4c0d-b8c2-9295dbe86cba button.colab-df-convert');\n",
              "        buttonEl.style.display =\n",
              "          google.colab.kernel.accessAllowed ? 'block' : 'none';\n",
              "\n",
              "        async function convertToInteractive(key) {\n",
              "          const element = document.querySelector('#df-c8de0131-d87f-4c0d-b8c2-9295dbe86cba');\n",
              "          const dataTable =\n",
              "            await google.colab.kernel.invokeFunction('convertToInteractive',\n",
              "                                                     [key], {});\n",
              "          if (!dataTable) return;\n",
              "\n",
              "          const docLinkHtml = 'Like what you see? Visit the ' +\n",
              "            '<a target=\"_blank\" href=https://colab.research.google.com/notebooks/data_table.ipynb>data table notebook</a>'\n",
              "            + ' to learn more about interactive tables.';\n",
              "          element.innerHTML = '';\n",
              "          dataTable['output_type'] = 'display_data';\n",
              "          await google.colab.output.renderOutput(dataTable, element);\n",
              "          const docLink = document.createElement('div');\n",
              "          docLink.innerHTML = docLinkHtml;\n",
              "          element.appendChild(docLink);\n",
              "        }\n",
              "      </script>\n",
              "    </div>\n",
              "  </div>\n",
              "  "
            ]
          },
          "metadata": {},
          "execution_count": 4
        }
      ],
      "source": [
        "# Ignoring warning messages about deprecation and such from python\n",
        "import warnings\n",
        "warnings.filterwarnings('ignore')\n",
        "\n",
        "path = '/content/drive/MyDrive/cognizant_ds_eda/sample_sales_data.csv'\n",
        "df = pd.read_csv(path)\n",
        "df.drop(columns=[\"Unnamed: 0\"], inplace=True, errors='ignore')\n",
        "df.head()"
      ]
    },
    {
      "cell_type": "markdown",
      "metadata": {
        "id": "ZI-Q3zvsGWpl"
      },
      "source": [
        "Using the `.head()` method allows us to see the top 5 (5 by default) rows within the dataframe. We can use `.tail()` to see the bottom 5. If you want to see more than 5 rows, simply enter a number into the parentheses, e.g. `head(10)` or `tail(10)`."
      ]
    },
    {
      "cell_type": "markdown",
      "metadata": {
        "id": "qaXaaIr5Hemv"
      },
      "source": [
        "---\n",
        "\n",
        "## Section 3 - Descriptive statistics\n",
        "\n",
        "In this section, you should try to gain a description of the data, that is: what columns are present, how many null values exist and what data types exists within each column.\n",
        "\n",
        "To get you started an explanation of what the column names mean are provided below:\n",
        "\n",
        "- transaction_id = this is a unique ID that is assigned to each transaction\n",
        "- timestamp = this is the datetime at which the transaction was made\n",
        "- product_id = this is an ID that is assigned to the product that was sold. Each product has a unique ID\n",
        "- category = this is the category that the product is contained within\n",
        "- customer_type = this is the type of customer that made the transaction\n",
        "- unit_price = the price that 1 unit of this item sells for\n",
        "- quantity = the number of units sold for this product within this transaction\n",
        "- total = the total amount payable by the customer\n",
        "- payment_type = the payment method used by the customer\n",
        "\n",
        "After this, you should try to compute some descriptive statistics of the numerical columns within the dataset, such as:\n",
        "\n",
        "- mean\n",
        "- median\n",
        "- count\n",
        "- etc..."
      ]
    },
    {
      "cell_type": "code",
      "execution_count": 5,
      "metadata": {
        "id": "sbf25LDJ7FJG"
      },
      "outputs": [],
      "source": [
        "# Helper functions to do an initial display of values in the data\n",
        "# as well as an initial univariate observation of the data\n",
        "\n",
        "def get_info_and_stats(df):\n",
        "    '''\n",
        "    get_info_stats takes a DataFrame and returns information\n",
        "    about the content of the DataFrame, the number of null\n",
        "    values and a statistical description of the numerical\n",
        "    columns of the DataFrame\n",
        "    '''\n",
        "    print(df.info(), df.isna().mean(), df.describe(), sep='\\n#############################################\\n')\n",
        "\n",
        "def multi_frequency(df,vars):\n",
        "    '''\n",
        "    multi_frequency takes a dataframe and a list of columns,\n",
        "    return a dataframe with the count and the frequency of the missing data\n",
        "    '''\n",
        "    frequency=df[vars].isnull().sum()\n",
        "    percentage=df[vars].isnull().sum()*100/(len(df))\n",
        "    df=pd.concat([frequency,percentage], axis=1, keys=['num_rows_missing', 'pct_rows_missing'])\n",
        "    return df\n",
        "\n",
        "def cat_value_counts(df):\n",
        "    '''\n",
        "    value_counts prints the count and percentage of columns.\n",
        "    It uses list comprehensions to select the type of column to use\n",
        "    '''\n",
        "    cat_columns = df.columns[[df[col].dtypes == 'object' for col in df.columns]]\n",
        "    for col in cat_columns:\n",
        "        print(df[col].value_counts())\n",
        "        print(df[col].value_counts(normalize=True, dropna=False))\n",
        "        print('\\n#############################################\\n')\n",
        "\n",
        "def num_value_counts(df):\n",
        "    '''\n",
        "    value_counts prints the count and percentage of columns.\n",
        "    It uses list comprehensions to select the type of column to use\n",
        "    '''\n",
        "    num_columns = df.columns[[df[col].dtypes == 'int' or df[col].dtypes == 'float' for col in df.columns]]\n",
        "    for col in num_columns:\n",
        "        print(df[col].value_counts())\n",
        "        print(df[col].value_counts(normalize=True, dropna=False))\n",
        "        print('\\n#############################################\\n')"
      ]
    },
    {
      "cell_type": "code",
      "execution_count": 6,
      "metadata": {
        "colab": {
          "base_uri": "https://localhost:8080/"
        },
        "id": "VU64YMRHGNFa",
        "outputId": "42545919-636f-4033-82a7-77c4c20c1c7f"
      },
      "outputs": [
        {
          "output_type": "stream",
          "name": "stdout",
          "text": [
            "<class 'pandas.core.frame.DataFrame'>\n",
            "RangeIndex: 7829 entries, 0 to 7828\n",
            "Data columns (total 9 columns):\n",
            " #   Column          Non-Null Count  Dtype  \n",
            "---  ------          --------------  -----  \n",
            " 0   transaction_id  7829 non-null   object \n",
            " 1   timestamp       7829 non-null   object \n",
            " 2   product_id      7829 non-null   object \n",
            " 3   category        7829 non-null   object \n",
            " 4   customer_type   7829 non-null   object \n",
            " 5   unit_price      7829 non-null   float64\n",
            " 6   quantity        7829 non-null   int64  \n",
            " 7   total           7829 non-null   float64\n",
            " 8   payment_type    7829 non-null   object \n",
            "dtypes: float64(2), int64(1), object(6)\n",
            "memory usage: 550.6+ KB\n",
            "None\n",
            "#############################################\n",
            "transaction_id    0.0\n",
            "timestamp         0.0\n",
            "product_id        0.0\n",
            "category          0.0\n",
            "customer_type     0.0\n",
            "unit_price        0.0\n",
            "quantity          0.0\n",
            "total             0.0\n",
            "payment_type      0.0\n",
            "dtype: float64\n",
            "#############################################\n",
            "        unit_price     quantity        total\n",
            "count  7829.000000  7829.000000  7829.000000\n",
            "mean      7.819480     2.501597    19.709905\n",
            "std       5.388088     1.122722    17.446680\n",
            "min       0.190000     1.000000     0.190000\n",
            "25%       3.990000     1.000000     6.570000\n",
            "50%       7.190000     3.000000    14.970000\n",
            "75%      11.190000     4.000000    28.470000\n",
            "max      23.990000     4.000000    95.960000\n"
          ]
        }
      ],
      "source": [
        "# Function for general information and stats\n",
        "get_info_and_stats(df)"
      ]
    },
    {
      "cell_type": "code",
      "execution_count": 7,
      "metadata": {
        "colab": {
          "base_uri": "https://localhost:8080/"
        },
        "id": "3V17COi6Gsvn",
        "outputId": "bb4a2824-2b9e-46b2-964f-e1e9db0a55da"
      },
      "outputs": [
        {
          "output_type": "execute_result",
          "data": {
            "text/plain": [
              "Index(['transaction_id', 'timestamp', 'product_id', 'category',\n",
              "       'customer_type', 'unit_price', 'quantity', 'total', 'payment_type'],\n",
              "      dtype='object')"
            ]
          },
          "metadata": {},
          "execution_count": 7
        }
      ],
      "source": [
        "df.columns"
      ]
    },
    {
      "cell_type": "code",
      "execution_count": 8,
      "metadata": {
        "colab": {
          "base_uri": "https://localhost:8080/",
          "height": 332
        },
        "id": "4FSV3L1uGeh_",
        "outputId": "6e26c1e8-cb88-4651-96cb-c8dde66c88e7"
      },
      "outputs": [
        {
          "output_type": "execute_result",
          "data": {
            "text/plain": [
              "                num_rows_missing  pct_rows_missing\n",
              "transaction_id                 0               0.0\n",
              "timestamp                      0               0.0\n",
              "product_id                     0               0.0\n",
              "category                       0               0.0\n",
              "customer_type                  0               0.0\n",
              "unit_price                     0               0.0\n",
              "quantity                       0               0.0\n",
              "total                          0               0.0\n",
              "payment_type                   0               0.0"
            ],
            "text/html": [
              "\n",
              "  <div id=\"df-15353951-b82c-46bf-9978-d1ddbeaa4849\">\n",
              "    <div class=\"colab-df-container\">\n",
              "      <div>\n",
              "<style scoped>\n",
              "    .dataframe tbody tr th:only-of-type {\n",
              "        vertical-align: middle;\n",
              "    }\n",
              "\n",
              "    .dataframe tbody tr th {\n",
              "        vertical-align: top;\n",
              "    }\n",
              "\n",
              "    .dataframe thead th {\n",
              "        text-align: right;\n",
              "    }\n",
              "</style>\n",
              "<table border=\"1\" class=\"dataframe\">\n",
              "  <thead>\n",
              "    <tr style=\"text-align: right;\">\n",
              "      <th></th>\n",
              "      <th>num_rows_missing</th>\n",
              "      <th>pct_rows_missing</th>\n",
              "    </tr>\n",
              "  </thead>\n",
              "  <tbody>\n",
              "    <tr>\n",
              "      <th>transaction_id</th>\n",
              "      <td>0</td>\n",
              "      <td>0.0</td>\n",
              "    </tr>\n",
              "    <tr>\n",
              "      <th>timestamp</th>\n",
              "      <td>0</td>\n",
              "      <td>0.0</td>\n",
              "    </tr>\n",
              "    <tr>\n",
              "      <th>product_id</th>\n",
              "      <td>0</td>\n",
              "      <td>0.0</td>\n",
              "    </tr>\n",
              "    <tr>\n",
              "      <th>category</th>\n",
              "      <td>0</td>\n",
              "      <td>0.0</td>\n",
              "    </tr>\n",
              "    <tr>\n",
              "      <th>customer_type</th>\n",
              "      <td>0</td>\n",
              "      <td>0.0</td>\n",
              "    </tr>\n",
              "    <tr>\n",
              "      <th>unit_price</th>\n",
              "      <td>0</td>\n",
              "      <td>0.0</td>\n",
              "    </tr>\n",
              "    <tr>\n",
              "      <th>quantity</th>\n",
              "      <td>0</td>\n",
              "      <td>0.0</td>\n",
              "    </tr>\n",
              "    <tr>\n",
              "      <th>total</th>\n",
              "      <td>0</td>\n",
              "      <td>0.0</td>\n",
              "    </tr>\n",
              "    <tr>\n",
              "      <th>payment_type</th>\n",
              "      <td>0</td>\n",
              "      <td>0.0</td>\n",
              "    </tr>\n",
              "  </tbody>\n",
              "</table>\n",
              "</div>\n",
              "      <button class=\"colab-df-convert\" onclick=\"convertToInteractive('df-15353951-b82c-46bf-9978-d1ddbeaa4849')\"\n",
              "              title=\"Convert this dataframe to an interactive table.\"\n",
              "              style=\"display:none;\">\n",
              "        \n",
              "  <svg xmlns=\"http://www.w3.org/2000/svg\" height=\"24px\"viewBox=\"0 0 24 24\"\n",
              "       width=\"24px\">\n",
              "    <path d=\"M0 0h24v24H0V0z\" fill=\"none\"/>\n",
              "    <path d=\"M18.56 5.44l.94 2.06.94-2.06 2.06-.94-2.06-.94-.94-2.06-.94 2.06-2.06.94zm-11 1L8.5 8.5l.94-2.06 2.06-.94-2.06-.94L8.5 2.5l-.94 2.06-2.06.94zm10 10l.94 2.06.94-2.06 2.06-.94-2.06-.94-.94-2.06-.94 2.06-2.06.94z\"/><path d=\"M17.41 7.96l-1.37-1.37c-.4-.4-.92-.59-1.43-.59-.52 0-1.04.2-1.43.59L10.3 9.45l-7.72 7.72c-.78.78-.78 2.05 0 2.83L4 21.41c.39.39.9.59 1.41.59.51 0 1.02-.2 1.41-.59l7.78-7.78 2.81-2.81c.8-.78.8-2.07 0-2.86zM5.41 20L4 18.59l7.72-7.72 1.47 1.35L5.41 20z\"/>\n",
              "  </svg>\n",
              "      </button>\n",
              "      \n",
              "  <style>\n",
              "    .colab-df-container {\n",
              "      display:flex;\n",
              "      flex-wrap:wrap;\n",
              "      gap: 12px;\n",
              "    }\n",
              "\n",
              "    .colab-df-convert {\n",
              "      background-color: #E8F0FE;\n",
              "      border: none;\n",
              "      border-radius: 50%;\n",
              "      cursor: pointer;\n",
              "      display: none;\n",
              "      fill: #1967D2;\n",
              "      height: 32px;\n",
              "      padding: 0 0 0 0;\n",
              "      width: 32px;\n",
              "    }\n",
              "\n",
              "    .colab-df-convert:hover {\n",
              "      background-color: #E2EBFA;\n",
              "      box-shadow: 0px 1px 2px rgba(60, 64, 67, 0.3), 0px 1px 3px 1px rgba(60, 64, 67, 0.15);\n",
              "      fill: #174EA6;\n",
              "    }\n",
              "\n",
              "    [theme=dark] .colab-df-convert {\n",
              "      background-color: #3B4455;\n",
              "      fill: #D2E3FC;\n",
              "    }\n",
              "\n",
              "    [theme=dark] .colab-df-convert:hover {\n",
              "      background-color: #434B5C;\n",
              "      box-shadow: 0px 1px 3px 1px rgba(0, 0, 0, 0.15);\n",
              "      filter: drop-shadow(0px 1px 2px rgba(0, 0, 0, 0.3));\n",
              "      fill: #FFFFFF;\n",
              "    }\n",
              "  </style>\n",
              "\n",
              "      <script>\n",
              "        const buttonEl =\n",
              "          document.querySelector('#df-15353951-b82c-46bf-9978-d1ddbeaa4849 button.colab-df-convert');\n",
              "        buttonEl.style.display =\n",
              "          google.colab.kernel.accessAllowed ? 'block' : 'none';\n",
              "\n",
              "        async function convertToInteractive(key) {\n",
              "          const element = document.querySelector('#df-15353951-b82c-46bf-9978-d1ddbeaa4849');\n",
              "          const dataTable =\n",
              "            await google.colab.kernel.invokeFunction('convertToInteractive',\n",
              "                                                     [key], {});\n",
              "          if (!dataTable) return;\n",
              "\n",
              "          const docLinkHtml = 'Like what you see? Visit the ' +\n",
              "            '<a target=\"_blank\" href=https://colab.research.google.com/notebooks/data_table.ipynb>data table notebook</a>'\n",
              "            + ' to learn more about interactive tables.';\n",
              "          element.innerHTML = '';\n",
              "          dataTable['output_type'] = 'display_data';\n",
              "          await google.colab.output.renderOutput(dataTable, element);\n",
              "          const docLink = document.createElement('div');\n",
              "          docLink.innerHTML = docLinkHtml;\n",
              "          element.appendChild(docLink);\n",
              "        }\n",
              "      </script>\n",
              "    </div>\n",
              "  </div>\n",
              "  "
            ]
          },
          "metadata": {},
          "execution_count": 8
        }
      ],
      "source": [
        "# Creating the set of columns to use in the function then running the function\n",
        "columns = ['transaction_id', 'timestamp', 'product_id', 'category',\\\n",
        "       'customer_type', 'unit_price', 'quantity', 'total', 'payment_type']\n",
        "multi_frequency(df,columns)"
      ]
    },
    {
      "cell_type": "markdown",
      "source": [
        "*The two pieces of code below are helping have a visual of the data for the duplicated timestamps. A visual is useful to detect patterns even if it is not a chart.*"
      ],
      "metadata": {
        "id": "Q4dxJnZpTa3Y"
      }
    },
    {
      "cell_type": "code",
      "source": [
        "df[df['timestamp'] == '2022-03-02 19:32:20']"
      ],
      "metadata": {
        "colab": {
          "base_uri": "https://localhost:8080/",
          "height": 156
        },
        "id": "PilaiN2U-9TV",
        "outputId": "0af9cfe6-cd61-41c0-ef78-7e39849bd49c"
      },
      "execution_count": 9,
      "outputs": [
        {
          "output_type": "execute_result",
          "data": {
            "text/plain": [
              "                            transaction_id            timestamp  \\\n",
              "1009  2e0c396d-a9f0-40b6-94b4-b9b21ed91dbb  2022-03-02 19:32:20   \n",
              "6510  c3b44c3b-71c7-4608-88f4-e36eeb6fc91f  2022-03-02 19:32:20   \n",
              "\n",
              "                                product_id       category customer_type  \\\n",
              "1009  abc7ecb4-9cbf-4276-8d2d-7bdac2ae5e9f     vegetables      standard   \n",
              "6510  6e8ccbee-64de-4ef7-b63b-ff72818cb29b  baby products          gold   \n",
              "\n",
              "      unit_price  quantity  total payment_type  \n",
              "1009        4.99         3  14.97  credit card  \n",
              "6510       12.49         1  12.49     e-wallet  "
            ],
            "text/html": [
              "\n",
              "  <div id=\"df-476f556d-bfc8-46e7-bcce-dabcbb39346c\">\n",
              "    <div class=\"colab-df-container\">\n",
              "      <div>\n",
              "<style scoped>\n",
              "    .dataframe tbody tr th:only-of-type {\n",
              "        vertical-align: middle;\n",
              "    }\n",
              "\n",
              "    .dataframe tbody tr th {\n",
              "        vertical-align: top;\n",
              "    }\n",
              "\n",
              "    .dataframe thead th {\n",
              "        text-align: right;\n",
              "    }\n",
              "</style>\n",
              "<table border=\"1\" class=\"dataframe\">\n",
              "  <thead>\n",
              "    <tr style=\"text-align: right;\">\n",
              "      <th></th>\n",
              "      <th>transaction_id</th>\n",
              "      <th>timestamp</th>\n",
              "      <th>product_id</th>\n",
              "      <th>category</th>\n",
              "      <th>customer_type</th>\n",
              "      <th>unit_price</th>\n",
              "      <th>quantity</th>\n",
              "      <th>total</th>\n",
              "      <th>payment_type</th>\n",
              "    </tr>\n",
              "  </thead>\n",
              "  <tbody>\n",
              "    <tr>\n",
              "      <th>1009</th>\n",
              "      <td>2e0c396d-a9f0-40b6-94b4-b9b21ed91dbb</td>\n",
              "      <td>2022-03-02 19:32:20</td>\n",
              "      <td>abc7ecb4-9cbf-4276-8d2d-7bdac2ae5e9f</td>\n",
              "      <td>vegetables</td>\n",
              "      <td>standard</td>\n",
              "      <td>4.99</td>\n",
              "      <td>3</td>\n",
              "      <td>14.97</td>\n",
              "      <td>credit card</td>\n",
              "    </tr>\n",
              "    <tr>\n",
              "      <th>6510</th>\n",
              "      <td>c3b44c3b-71c7-4608-88f4-e36eeb6fc91f</td>\n",
              "      <td>2022-03-02 19:32:20</td>\n",
              "      <td>6e8ccbee-64de-4ef7-b63b-ff72818cb29b</td>\n",
              "      <td>baby products</td>\n",
              "      <td>gold</td>\n",
              "      <td>12.49</td>\n",
              "      <td>1</td>\n",
              "      <td>12.49</td>\n",
              "      <td>e-wallet</td>\n",
              "    </tr>\n",
              "  </tbody>\n",
              "</table>\n",
              "</div>\n",
              "      <button class=\"colab-df-convert\" onclick=\"convertToInteractive('df-476f556d-bfc8-46e7-bcce-dabcbb39346c')\"\n",
              "              title=\"Convert this dataframe to an interactive table.\"\n",
              "              style=\"display:none;\">\n",
              "        \n",
              "  <svg xmlns=\"http://www.w3.org/2000/svg\" height=\"24px\"viewBox=\"0 0 24 24\"\n",
              "       width=\"24px\">\n",
              "    <path d=\"M0 0h24v24H0V0z\" fill=\"none\"/>\n",
              "    <path d=\"M18.56 5.44l.94 2.06.94-2.06 2.06-.94-2.06-.94-.94-2.06-.94 2.06-2.06.94zm-11 1L8.5 8.5l.94-2.06 2.06-.94-2.06-.94L8.5 2.5l-.94 2.06-2.06.94zm10 10l.94 2.06.94-2.06 2.06-.94-2.06-.94-.94-2.06-.94 2.06-2.06.94z\"/><path d=\"M17.41 7.96l-1.37-1.37c-.4-.4-.92-.59-1.43-.59-.52 0-1.04.2-1.43.59L10.3 9.45l-7.72 7.72c-.78.78-.78 2.05 0 2.83L4 21.41c.39.39.9.59 1.41.59.51 0 1.02-.2 1.41-.59l7.78-7.78 2.81-2.81c.8-.78.8-2.07 0-2.86zM5.41 20L4 18.59l7.72-7.72 1.47 1.35L5.41 20z\"/>\n",
              "  </svg>\n",
              "      </button>\n",
              "      \n",
              "  <style>\n",
              "    .colab-df-container {\n",
              "      display:flex;\n",
              "      flex-wrap:wrap;\n",
              "      gap: 12px;\n",
              "    }\n",
              "\n",
              "    .colab-df-convert {\n",
              "      background-color: #E8F0FE;\n",
              "      border: none;\n",
              "      border-radius: 50%;\n",
              "      cursor: pointer;\n",
              "      display: none;\n",
              "      fill: #1967D2;\n",
              "      height: 32px;\n",
              "      padding: 0 0 0 0;\n",
              "      width: 32px;\n",
              "    }\n",
              "\n",
              "    .colab-df-convert:hover {\n",
              "      background-color: #E2EBFA;\n",
              "      box-shadow: 0px 1px 2px rgba(60, 64, 67, 0.3), 0px 1px 3px 1px rgba(60, 64, 67, 0.15);\n",
              "      fill: #174EA6;\n",
              "    }\n",
              "\n",
              "    [theme=dark] .colab-df-convert {\n",
              "      background-color: #3B4455;\n",
              "      fill: #D2E3FC;\n",
              "    }\n",
              "\n",
              "    [theme=dark] .colab-df-convert:hover {\n",
              "      background-color: #434B5C;\n",
              "      box-shadow: 0px 1px 3px 1px rgba(0, 0, 0, 0.15);\n",
              "      filter: drop-shadow(0px 1px 2px rgba(0, 0, 0, 0.3));\n",
              "      fill: #FFFFFF;\n",
              "    }\n",
              "  </style>\n",
              "\n",
              "      <script>\n",
              "        const buttonEl =\n",
              "          document.querySelector('#df-476f556d-bfc8-46e7-bcce-dabcbb39346c button.colab-df-convert');\n",
              "        buttonEl.style.display =\n",
              "          google.colab.kernel.accessAllowed ? 'block' : 'none';\n",
              "\n",
              "        async function convertToInteractive(key) {\n",
              "          const element = document.querySelector('#df-476f556d-bfc8-46e7-bcce-dabcbb39346c');\n",
              "          const dataTable =\n",
              "            await google.colab.kernel.invokeFunction('convertToInteractive',\n",
              "                                                     [key], {});\n",
              "          if (!dataTable) return;\n",
              "\n",
              "          const docLinkHtml = 'Like what you see? Visit the ' +\n",
              "            '<a target=\"_blank\" href=https://colab.research.google.com/notebooks/data_table.ipynb>data table notebook</a>'\n",
              "            + ' to learn more about interactive tables.';\n",
              "          element.innerHTML = '';\n",
              "          dataTable['output_type'] = 'display_data';\n",
              "          await google.colab.output.renderOutput(dataTable, element);\n",
              "          const docLink = document.createElement('div');\n",
              "          docLink.innerHTML = docLinkHtml;\n",
              "          element.appendChild(docLink);\n",
              "        }\n",
              "      </script>\n",
              "    </div>\n",
              "  </div>\n",
              "  "
            ]
          },
          "metadata": {},
          "execution_count": 9
        }
      ]
    },
    {
      "cell_type": "code",
      "source": [
        "duplicate_timestamps = df[df.duplicated('timestamp', keep=False)]\n",
        "duplicate_timestamps.head()"
      ],
      "metadata": {
        "colab": {
          "base_uri": "https://localhost:8080/",
          "height": 250
        },
        "id": "9u4vF6ARAsq6",
        "outputId": "1fc6b8f2-2870-425a-c0ee-b4c2f59cf323"
      },
      "execution_count": 10,
      "outputs": [
        {
          "output_type": "execute_result",
          "data": {
            "text/plain": [
              "                           transaction_id            timestamp  \\\n",
              "17   1b5dcfd7-9e27-4fee-91af-95845d4d8ae6  2022-03-05 09:44:16   \n",
              "78   1689ffc2-b554-4e29-95bc-85cd64c14856  2022-03-02 13:57:36   \n",
              "159  51733363-c3fc-467b-a2ec-603768608ed0  2022-03-05 17:46:21   \n",
              "161  56678f57-93ce-44aa-83d0-fe14ad15c7e5  2022-03-01 09:34:25   \n",
              "169  d9794ade-c7d3-4787-a0a6-b3336437dd25  2022-03-07 18:56:03   \n",
              "\n",
              "                               product_id category customer_type  unit_price  \\\n",
              "17   3bc6c1ea-0198-46de-9ffd-514ae3338713    fruit      standard        3.99   \n",
              "78   35e00193-aa27-4121-87f4-6ac0d8a8671f    fruit      standard        0.49   \n",
              "159  3bc6c1ea-0198-46de-9ffd-514ae3338713    fruit       premium        3.99   \n",
              "161  7f5e86e6-f06f-45f6-bf44-27b095c9ad1d    fruit          gold        4.49   \n",
              "169  ad81b46c-bf38-41cf-9b54-5fe7f5eba93e    fruit       premium        3.99   \n",
              "\n",
              "     quantity  total payment_type  \n",
              "17          3  11.97     e-wallet  \n",
              "78          4   1.96     e-wallet  \n",
              "159         1   3.99     e-wallet  \n",
              "161         1   4.49   debit card  \n",
              "169         4  15.96         cash  "
            ],
            "text/html": [
              "\n",
              "  <div id=\"df-e00b1a70-9569-4df7-8381-5a4dc4a2e41c\">\n",
              "    <div class=\"colab-df-container\">\n",
              "      <div>\n",
              "<style scoped>\n",
              "    .dataframe tbody tr th:only-of-type {\n",
              "        vertical-align: middle;\n",
              "    }\n",
              "\n",
              "    .dataframe tbody tr th {\n",
              "        vertical-align: top;\n",
              "    }\n",
              "\n",
              "    .dataframe thead th {\n",
              "        text-align: right;\n",
              "    }\n",
              "</style>\n",
              "<table border=\"1\" class=\"dataframe\">\n",
              "  <thead>\n",
              "    <tr style=\"text-align: right;\">\n",
              "      <th></th>\n",
              "      <th>transaction_id</th>\n",
              "      <th>timestamp</th>\n",
              "      <th>product_id</th>\n",
              "      <th>category</th>\n",
              "      <th>customer_type</th>\n",
              "      <th>unit_price</th>\n",
              "      <th>quantity</th>\n",
              "      <th>total</th>\n",
              "      <th>payment_type</th>\n",
              "    </tr>\n",
              "  </thead>\n",
              "  <tbody>\n",
              "    <tr>\n",
              "      <th>17</th>\n",
              "      <td>1b5dcfd7-9e27-4fee-91af-95845d4d8ae6</td>\n",
              "      <td>2022-03-05 09:44:16</td>\n",
              "      <td>3bc6c1ea-0198-46de-9ffd-514ae3338713</td>\n",
              "      <td>fruit</td>\n",
              "      <td>standard</td>\n",
              "      <td>3.99</td>\n",
              "      <td>3</td>\n",
              "      <td>11.97</td>\n",
              "      <td>e-wallet</td>\n",
              "    </tr>\n",
              "    <tr>\n",
              "      <th>78</th>\n",
              "      <td>1689ffc2-b554-4e29-95bc-85cd64c14856</td>\n",
              "      <td>2022-03-02 13:57:36</td>\n",
              "      <td>35e00193-aa27-4121-87f4-6ac0d8a8671f</td>\n",
              "      <td>fruit</td>\n",
              "      <td>standard</td>\n",
              "      <td>0.49</td>\n",
              "      <td>4</td>\n",
              "      <td>1.96</td>\n",
              "      <td>e-wallet</td>\n",
              "    </tr>\n",
              "    <tr>\n",
              "      <th>159</th>\n",
              "      <td>51733363-c3fc-467b-a2ec-603768608ed0</td>\n",
              "      <td>2022-03-05 17:46:21</td>\n",
              "      <td>3bc6c1ea-0198-46de-9ffd-514ae3338713</td>\n",
              "      <td>fruit</td>\n",
              "      <td>premium</td>\n",
              "      <td>3.99</td>\n",
              "      <td>1</td>\n",
              "      <td>3.99</td>\n",
              "      <td>e-wallet</td>\n",
              "    </tr>\n",
              "    <tr>\n",
              "      <th>161</th>\n",
              "      <td>56678f57-93ce-44aa-83d0-fe14ad15c7e5</td>\n",
              "      <td>2022-03-01 09:34:25</td>\n",
              "      <td>7f5e86e6-f06f-45f6-bf44-27b095c9ad1d</td>\n",
              "      <td>fruit</td>\n",
              "      <td>gold</td>\n",
              "      <td>4.49</td>\n",
              "      <td>1</td>\n",
              "      <td>4.49</td>\n",
              "      <td>debit card</td>\n",
              "    </tr>\n",
              "    <tr>\n",
              "      <th>169</th>\n",
              "      <td>d9794ade-c7d3-4787-a0a6-b3336437dd25</td>\n",
              "      <td>2022-03-07 18:56:03</td>\n",
              "      <td>ad81b46c-bf38-41cf-9b54-5fe7f5eba93e</td>\n",
              "      <td>fruit</td>\n",
              "      <td>premium</td>\n",
              "      <td>3.99</td>\n",
              "      <td>4</td>\n",
              "      <td>15.96</td>\n",
              "      <td>cash</td>\n",
              "    </tr>\n",
              "  </tbody>\n",
              "</table>\n",
              "</div>\n",
              "      <button class=\"colab-df-convert\" onclick=\"convertToInteractive('df-e00b1a70-9569-4df7-8381-5a4dc4a2e41c')\"\n",
              "              title=\"Convert this dataframe to an interactive table.\"\n",
              "              style=\"display:none;\">\n",
              "        \n",
              "  <svg xmlns=\"http://www.w3.org/2000/svg\" height=\"24px\"viewBox=\"0 0 24 24\"\n",
              "       width=\"24px\">\n",
              "    <path d=\"M0 0h24v24H0V0z\" fill=\"none\"/>\n",
              "    <path d=\"M18.56 5.44l.94 2.06.94-2.06 2.06-.94-2.06-.94-.94-2.06-.94 2.06-2.06.94zm-11 1L8.5 8.5l.94-2.06 2.06-.94-2.06-.94L8.5 2.5l-.94 2.06-2.06.94zm10 10l.94 2.06.94-2.06 2.06-.94-2.06-.94-.94-2.06-.94 2.06-2.06.94z\"/><path d=\"M17.41 7.96l-1.37-1.37c-.4-.4-.92-.59-1.43-.59-.52 0-1.04.2-1.43.59L10.3 9.45l-7.72 7.72c-.78.78-.78 2.05 0 2.83L4 21.41c.39.39.9.59 1.41.59.51 0 1.02-.2 1.41-.59l7.78-7.78 2.81-2.81c.8-.78.8-2.07 0-2.86zM5.41 20L4 18.59l7.72-7.72 1.47 1.35L5.41 20z\"/>\n",
              "  </svg>\n",
              "      </button>\n",
              "      \n",
              "  <style>\n",
              "    .colab-df-container {\n",
              "      display:flex;\n",
              "      flex-wrap:wrap;\n",
              "      gap: 12px;\n",
              "    }\n",
              "\n",
              "    .colab-df-convert {\n",
              "      background-color: #E8F0FE;\n",
              "      border: none;\n",
              "      border-radius: 50%;\n",
              "      cursor: pointer;\n",
              "      display: none;\n",
              "      fill: #1967D2;\n",
              "      height: 32px;\n",
              "      padding: 0 0 0 0;\n",
              "      width: 32px;\n",
              "    }\n",
              "\n",
              "    .colab-df-convert:hover {\n",
              "      background-color: #E2EBFA;\n",
              "      box-shadow: 0px 1px 2px rgba(60, 64, 67, 0.3), 0px 1px 3px 1px rgba(60, 64, 67, 0.15);\n",
              "      fill: #174EA6;\n",
              "    }\n",
              "\n",
              "    [theme=dark] .colab-df-convert {\n",
              "      background-color: #3B4455;\n",
              "      fill: #D2E3FC;\n",
              "    }\n",
              "\n",
              "    [theme=dark] .colab-df-convert:hover {\n",
              "      background-color: #434B5C;\n",
              "      box-shadow: 0px 1px 3px 1px rgba(0, 0, 0, 0.15);\n",
              "      filter: drop-shadow(0px 1px 2px rgba(0, 0, 0, 0.3));\n",
              "      fill: #FFFFFF;\n",
              "    }\n",
              "  </style>\n",
              "\n",
              "      <script>\n",
              "        const buttonEl =\n",
              "          document.querySelector('#df-e00b1a70-9569-4df7-8381-5a4dc4a2e41c button.colab-df-convert');\n",
              "        buttonEl.style.display =\n",
              "          google.colab.kernel.accessAllowed ? 'block' : 'none';\n",
              "\n",
              "        async function convertToInteractive(key) {\n",
              "          const element = document.querySelector('#df-e00b1a70-9569-4df7-8381-5a4dc4a2e41c');\n",
              "          const dataTable =\n",
              "            await google.colab.kernel.invokeFunction('convertToInteractive',\n",
              "                                                     [key], {});\n",
              "          if (!dataTable) return;\n",
              "\n",
              "          const docLinkHtml = 'Like what you see? Visit the ' +\n",
              "            '<a target=\"_blank\" href=https://colab.research.google.com/notebooks/data_table.ipynb>data table notebook</a>'\n",
              "            + ' to learn more about interactive tables.';\n",
              "          element.innerHTML = '';\n",
              "          dataTable['output_type'] = 'display_data';\n",
              "          await google.colab.output.renderOutput(dataTable, element);\n",
              "          const docLink = document.createElement('div');\n",
              "          docLink.innerHTML = docLinkHtml;\n",
              "          element.appendChild(docLink);\n",
              "        }\n",
              "      </script>\n",
              "    </div>\n",
              "  </div>\n",
              "  "
            ]
          },
          "metadata": {},
          "execution_count": 10
        }
      ]
    },
    {
      "cell_type": "code",
      "source": [
        "# Function for categorical value count\n",
        "cat_value_counts(df)"
      ],
      "metadata": {
        "colab": {
          "base_uri": "https://localhost:8080/"
        },
        "id": "5-0dliDpX9px",
        "outputId": "a2d5cae4-d574-4307-a276-ccb0ffd0ece3"
      },
      "execution_count": 11,
      "outputs": [
        {
          "output_type": "stream",
          "name": "stdout",
          "text": [
            "a1c82654-c52c-45b3-8ce8-4c2a1efe63ed    1\n",
            "6532e258-95fd-4eb5-8c67-2bfb879a8fec    1\n",
            "6fce2af3-47a0-4755-99c9-0cefb5ab6f41    1\n",
            "6476e388-3990-471f-b415-3ee59ae18832    1\n",
            "10afe89b-c45b-49a2-b0be-dec89a4c3f80    1\n",
            "                                       ..\n",
            "a9abe5ac-99d5-4d8b-bbbd-c2a207642849    1\n",
            "6b0b23e8-412b-4665-8cc4-3e37f0d9e195    1\n",
            "711a4162-1985-4f5a-94ca-137cfacaeadf    1\n",
            "7d1e9010-dbaf-4770-a467-f31477910f7a    1\n",
            "afd70b4f-ee21-402d-8d8f-0d9e13c2bea6    1\n",
            "Name: transaction_id, Length: 7829, dtype: int64\n",
            "a1c82654-c52c-45b3-8ce8-4c2a1efe63ed    0.000128\n",
            "6532e258-95fd-4eb5-8c67-2bfb879a8fec    0.000128\n",
            "6fce2af3-47a0-4755-99c9-0cefb5ab6f41    0.000128\n",
            "6476e388-3990-471f-b415-3ee59ae18832    0.000128\n",
            "10afe89b-c45b-49a2-b0be-dec89a4c3f80    0.000128\n",
            "                                          ...   \n",
            "a9abe5ac-99d5-4d8b-bbbd-c2a207642849    0.000128\n",
            "6b0b23e8-412b-4665-8cc4-3e37f0d9e195    0.000128\n",
            "711a4162-1985-4f5a-94ca-137cfacaeadf    0.000128\n",
            "7d1e9010-dbaf-4770-a467-f31477910f7a    0.000128\n",
            "afd70b4f-ee21-402d-8d8f-0d9e13c2bea6    0.000128\n",
            "Name: transaction_id, Length: 7829, dtype: float64\n",
            "\n",
            "#############################################\n",
            "\n",
            "2022-03-02 19:32:20    2\n",
            "2022-03-05 10:11:33    2\n",
            "2022-03-01 18:12:17    2\n",
            "2022-03-03 13:28:14    2\n",
            "2022-03-07 17:13:29    2\n",
            "                      ..\n",
            "2022-03-01 10:00:58    1\n",
            "2022-03-02 11:05:58    1\n",
            "2022-03-04 17:48:49    1\n",
            "2022-03-04 14:53:27    1\n",
            "2022-03-06 13:50:36    1\n",
            "Name: timestamp, Length: 7738, dtype: int64\n",
            "2022-03-02 19:32:20    0.000255\n",
            "2022-03-05 10:11:33    0.000255\n",
            "2022-03-01 18:12:17    0.000255\n",
            "2022-03-03 13:28:14    0.000255\n",
            "2022-03-07 17:13:29    0.000255\n",
            "                         ...   \n",
            "2022-03-01 10:00:58    0.000128\n",
            "2022-03-02 11:05:58    0.000128\n",
            "2022-03-04 17:48:49    0.000128\n",
            "2022-03-04 14:53:27    0.000128\n",
            "2022-03-06 13:50:36    0.000128\n",
            "Name: timestamp, Length: 7738, dtype: float64\n",
            "\n",
            "#############################################\n",
            "\n",
            "ecac012c-1dec-41d4-9ebd-56fb7166f6d9    114\n",
            "80da8348-1707-403f-8be7-9e6deeccc883    109\n",
            "0ddc2379-adba-4fb0-aa97-19fcafc738a1    108\n",
            "7c55cbd4-f306-4c04-a030-628cbe7867c1    104\n",
            "3bc6c1ea-0198-46de-9ffd-514ae3338713    101\n",
            "                                       ... \n",
            "49f7d4a9-713a-4824-b378-aebb33ff8b2f      5\n",
            "a8fab83a-16d4-4db0-a83a-f824ecd8604a      5\n",
            "c8de27d0-2c44-4b5a-b178-59c45d054ccb      5\n",
            "5adfc643-aa8e-4140-b2c3-98a946444632      5\n",
            "ec0bb9b5-45e3-4de8-963d-e92aa91a201e      3\n",
            "Name: product_id, Length: 300, dtype: int64\n",
            "ecac012c-1dec-41d4-9ebd-56fb7166f6d9    0.014561\n",
            "80da8348-1707-403f-8be7-9e6deeccc883    0.013923\n",
            "0ddc2379-adba-4fb0-aa97-19fcafc738a1    0.013795\n",
            "7c55cbd4-f306-4c04-a030-628cbe7867c1    0.013284\n",
            "3bc6c1ea-0198-46de-9ffd-514ae3338713    0.012901\n",
            "                                          ...   \n",
            "49f7d4a9-713a-4824-b378-aebb33ff8b2f    0.000639\n",
            "a8fab83a-16d4-4db0-a83a-f824ecd8604a    0.000639\n",
            "c8de27d0-2c44-4b5a-b178-59c45d054ccb    0.000639\n",
            "5adfc643-aa8e-4140-b2c3-98a946444632    0.000639\n",
            "ec0bb9b5-45e3-4de8-963d-e92aa91a201e    0.000383\n",
            "Name: product_id, Length: 300, dtype: float64\n",
            "\n",
            "#############################################\n",
            "\n",
            "fruit                    998\n",
            "vegetables               846\n",
            "packaged foods           507\n",
            "baked goods              443\n",
            "canned foods             431\n",
            "refrigerated items       425\n",
            "kitchen                  382\n",
            "meat                     382\n",
            "dairy                    375\n",
            "beverages                301\n",
            "cheese                   293\n",
            "cleaning products        292\n",
            "baking                   264\n",
            "snacks                   263\n",
            "frozen                   263\n",
            "seafood                  253\n",
            "medicine                 243\n",
            "baby products            224\n",
            "condiments and sauces    181\n",
            "personal care            177\n",
            "pets                     161\n",
            "spices and herbs         125\n",
            "Name: category, dtype: int64\n",
            "fruit                    0.127475\n",
            "vegetables               0.108060\n",
            "packaged foods           0.064759\n",
            "baked goods              0.056584\n",
            "canned foods             0.055052\n",
            "refrigerated items       0.054285\n",
            "kitchen                  0.048793\n",
            "meat                     0.048793\n",
            "dairy                    0.047899\n",
            "beverages                0.038447\n",
            "cheese                   0.037425\n",
            "cleaning products        0.037297\n",
            "baking                   0.033721\n",
            "snacks                   0.033593\n",
            "frozen                   0.033593\n",
            "seafood                  0.032316\n",
            "medicine                 0.031038\n",
            "baby products            0.028612\n",
            "condiments and sauces    0.023119\n",
            "personal care            0.022608\n",
            "pets                     0.020565\n",
            "spices and herbs         0.015966\n",
            "Name: category, dtype: float64\n",
            "\n",
            "#############################################\n",
            "\n",
            "non-member    1601\n",
            "standard      1595\n",
            "premium       1590\n",
            "basic         1526\n",
            "gold          1517\n",
            "Name: customer_type, dtype: int64\n",
            "non-member    0.204496\n",
            "standard      0.203730\n",
            "premium       0.203091\n",
            "basic         0.194916\n",
            "gold          0.193767\n",
            "Name: customer_type, dtype: float64\n",
            "\n",
            "#############################################\n",
            "\n",
            "cash           2027\n",
            "credit card    1949\n",
            "e-wallet       1935\n",
            "debit card     1918\n",
            "Name: payment_type, dtype: int64\n",
            "cash           0.258909\n",
            "credit card    0.248946\n",
            "e-wallet       0.247158\n",
            "debit card     0.244987\n",
            "Name: payment_type, dtype: float64\n",
            "\n",
            "#############################################\n",
            "\n"
          ]
        }
      ]
    },
    {
      "cell_type": "code",
      "source": [
        "# Function for numeric value count\n",
        "num_value_counts(df)"
      ],
      "metadata": {
        "colab": {
          "base_uri": "https://localhost:8080/"
        },
        "id": "KhbuyiQLame0",
        "outputId": "76903189-ab78-41d1-b4b7-2f5e503ca2dc"
      },
      "execution_count": 12,
      "outputs": [
        {
          "output_type": "stream",
          "name": "stdout",
          "text": [
            "3.99     374\n",
            "4.99     374\n",
            "1.49     321\n",
            "0.49     306\n",
            "8.19     272\n",
            "        ... \n",
            "21.99     17\n",
            "20.99     17\n",
            "23.99     13\n",
            "17.99     12\n",
            "20.19     11\n",
            "Name: unit_price, Length: 64, dtype: int64\n",
            "3.99     0.047771\n",
            "4.99     0.047771\n",
            "1.49     0.041001\n",
            "0.49     0.039085\n",
            "8.19     0.034743\n",
            "           ...   \n",
            "21.99    0.002171\n",
            "20.99    0.002171\n",
            "23.99    0.001660\n",
            "17.99    0.001533\n",
            "20.19    0.001405\n",
            "Name: unit_price, Length: 64, dtype: float64\n",
            "\n",
            "#############################################\n",
            "\n",
            "1    1979\n",
            "4    1976\n",
            "3    1954\n",
            "2    1920\n",
            "Name: quantity, dtype: int64\n",
            "1    0.252778\n",
            "4    0.252395\n",
            "3    0.249585\n",
            "2    0.245242\n",
            "Name: quantity, dtype: float64\n",
            "\n",
            "#############################################\n",
            "\n",
            "14.97    104\n",
            "3.99     103\n",
            "11.97     98\n",
            "4.99      94\n",
            "19.96     94\n",
            "        ... \n",
            "60.57      2\n",
            "47.98      2\n",
            "17.99      2\n",
            "20.19      1\n",
            "35.98      1\n",
            "Name: total, Length: 256, dtype: int64\n",
            "14.97    0.013284\n",
            "3.99     0.013156\n",
            "11.97    0.012518\n",
            "4.99     0.012007\n",
            "19.96    0.012007\n",
            "           ...   \n",
            "60.57    0.000255\n",
            "47.98    0.000255\n",
            "17.99    0.000255\n",
            "20.19    0.000128\n",
            "35.98    0.000128\n",
            "Name: total, Length: 256, dtype: float64\n",
            "\n",
            "#############################################\n",
            "\n"
          ]
        }
      ]
    },
    {
      "cell_type": "markdown",
      "metadata": {
        "id": "VjJGqyq9G3KU"
      },
      "source": [
        "After running the 2 helper functions above, I came to a few conclusions:\n",
        "- the dataset does not have any null values\n",
        "- the DataFrame has 9 columns and 7829 rows of data.\n",
        "- there are 3 numeric columns and 6 categorical columns\n",
        "- the max quantity purchased is 4 products\n",
        "- the lowest quantity 1\n",
        "- the max unit_price is 23.99\n",
        "- the lowest unit_price is 0.19\n",
        "- mean and median are as follow:\n",
        "  * mean unit_price= 7.82\n",
        "  * median unit_price= 7.19\n",
        "  * mean quantity= 2.5\n",
        "  * median quantity= 3.00\n",
        "- the total follows these fluctuations.\n",
        "- interesting note is that standard deviation of quantity does not change a lot and the standard deviation of unit_price seems to be higher but the range of the prices is also larger so a larger dataset is needed to investigate it. This could help me find a pattern which would probably mean that certain product are bought regularly or together or by certain types of customers.\n",
        "\n",
        "The data could offer good insights about consumers behavior notably the frequency and nature of their purchases across products, time, membership type, and payment type.\n",
        "Onto visualizations and multivariate observations to uncover nore insights if there are any, to help Gala groceries."
      ]
    },
    {
      "cell_type": "markdown",
      "source": [
        "Questions that could be explored further:\n",
        "\n",
        "Which category is duplicated the most?\n",
        "\n",
        "Beyond the fact that a duplicated timestamp shows that several cashiers are in service, what does it mean for our products?\n",
        "- I would need more data to look for answers.\n",
        "- Information like more timestamps (data on a longer period of time)\n",
        "- Are certain products bought a certain time of the day, wekk, month, year? \n",
        "- Is there a correlation between the method of payment and the frequency to buy cetain products? Certain quantities?\n",
        "- Do those who possess a certain payment method or a certain membership more enclined to have noticeable patterns?"
      ],
      "metadata": {
        "id": "4XFaSkQERebZ"
      }
    },
    {
      "cell_type": "markdown",
      "metadata": {
        "id": "G3UEcUpgcdM4"
      },
      "source": []
    },
    {
      "cell_type": "markdown",
      "metadata": {
        "id": "N-krPtHdHNrh"
      },
      "source": [
        "---\n",
        "\n",
        "## Section 4 - Visualisation\n",
        "\n",
        "Now that you've computed some descriptive statistics of the dataset, let's create some visualisations. You may use any package that you wish for visualisation, however, some helper functions have been provided that make use of the `seaborn` package. If you wish to use these helper functions, ensure to run the below cells that install and import `seaborn`."
      ]
    },
    {
      "cell_type": "code",
      "execution_count": 13,
      "metadata": {
        "id": "fT9DrY9RHMrd"
      },
      "outputs": [],
      "source": [
        "# !pip install seaborn"
      ]
    },
    {
      "cell_type": "code",
      "execution_count": 14,
      "metadata": {
        "id": "32RDb2C7KOpN"
      },
      "outputs": [],
      "source": [
        "import seaborn as sns\n",
        "import matplotlib.pyplot as plt"
      ]
    },
    {
      "cell_type": "markdown",
      "metadata": {
        "id": "rNvl5rGeKv-h"
      },
      "source": [
        "To analyse the dataset, below are snippets of code that you can use as helper functions to visualise different columns within the dataset. They include:\n",
        "\n",
        "- plot_continuous_distribution = this is to visualise the distribution of numeric columns\n",
        "- get_unique_values = this is to show how many unique values are present within a column\n",
        "- plot_categorical_distribution = this is to visualise the distribution of categorical columns\n",
        "- correlation_plot = this is to plot the correlations between the numeric columns within the data"
      ]
    },
    {
      "cell_type": "code",
      "execution_count": 15,
      "metadata": {
        "id": "AyUPE4QRKcYQ"
      },
      "outputs": [],
      "source": [
        "def plot_continuous_distribution(data: pd.DataFrame = None, column: str = None, height: int = 12):\n",
        "  _ = sns.displot(data, x=column, kde=True, height=height, aspect=height/5, palette='colorblind').set(title=f'Distribution of {column}');\n",
        "\n",
        "def get_unique_values(data, column):\n",
        "  num_unique_values = len(data[column].unique())\n",
        "  value_counts = data[column].value_counts()\n",
        "  print(f\"Column: {column} has {num_unique_values} unique values\\n\")\n",
        "  print(value_counts, '\\n')\n",
        "\n",
        "def plot_categorical_distribution(data: pd.DataFrame = None, column: str = None, height: int = 8, aspect: int = 2):\n",
        "  plot = sns.catplot(\n",
        "      data=data,\n",
        "      x=column, \n",
        "      kind='count',\n",
        "      height=height, aspect=aspect, palette='colorblind').set(title=f'Distribution of {column}')\n",
        "  plot.set_xticklabels(rotation=90)\n",
        "\n",
        "\n",
        "def correlation_plot(data: pd.DataFrame = None):\n",
        "  corr = df.corr()\n",
        "  f, ax = plt.subplots(figsize=(11, 9))\n",
        "  # Mask for the values of the heatmap that repeat themselves\n",
        "  mask = np.triu(np.ones_like(corr, dtype=bool))\n",
        "  # Creating a diverging colormap\n",
        "  cmap = sns.diverging_palette(200, 20, as_cmap=True)\n",
        "  sns.heatmap(corr,  mask=mask, cmap=cmap, vmax=.3, center=0,\n",
        "              square=True, linewidths=.5, cbar_kws={\"shrink\": .5})"
      ]
    },
    {
      "cell_type": "markdown",
      "metadata": {
        "id": "Atm2hxjv70Wr"
      },
      "source": [
        "Now it is your chance to visualise the columns, give it your best shot! As well as simply visualising the columns, try to interpret what the results mean in the context of the client."
      ]
    },
    {
      "cell_type": "code",
      "execution_count": 16,
      "metadata": {
        "colab": {
          "base_uri": "https://localhost:8080/",
          "height": 550
        },
        "id": "aUoDp6KjLIZO",
        "outputId": "d4e0d28d-2b06-4215-cd72-3470a1617bad"
      },
      "outputs": [
        {
          "output_type": "display_data",
          "data": {
            "text/plain": [
              "<Figure size 2158.97x864 with 1 Axes>"
            ],
            "image/png": "[encoded data removed]"
          },
          "metadata": {
            "needs_background": "light"
          }
        }
      ],
      "source": [
        "plot_continuous_distribution(df)"
      ]
    },
    {
      "cell_type": "markdown",
      "source": [
        "This plot confirms what I already knew about the quantity, unit price, and the total obtained from both, when I used `value_counts` earlier."
      ],
      "metadata": {
        "id": "FT4Pqso92--I"
      }
    },
    {
      "cell_type": "code",
      "execution_count": 17,
      "metadata": {
        "colab": {
          "base_uri": "https://localhost:8080/",
          "height": 206
        },
        "id": "oJrlVRNSuLa7",
        "outputId": "c7f2ddcb-a9cb-4b43-d685-d03f14200d0f"
      },
      "outputs": [
        {
          "output_type": "execute_result",
          "data": {
            "text/plain": [
              "  category customer_type payment_type\n",
              "0    fruit          gold     e-wallet\n",
              "1    fruit      standard     e-wallet\n",
              "2    fruit       premium     e-wallet\n",
              "3    fruit          gold     e-wallet\n",
              "4    fruit         basic   debit card"
            ],
            "text/html": [
              "\n",
              "  <div id=\"df-b8394af0-bf32-4cd9-a7e0-e247fe975c42\">\n",
              "    <div class=\"colab-df-container\">\n",
              "      <div>\n",
              "<style scoped>\n",
              "    .dataframe tbody tr th:only-of-type {\n",
              "        vertical-align: middle;\n",
              "    }\n",
              "\n",
              "    .dataframe tbody tr th {\n",
              "        vertical-align: top;\n",
              "    }\n",
              "\n",
              "    .dataframe thead th {\n",
              "        text-align: right;\n",
              "    }\n",
              "</style>\n",
              "<table border=\"1\" class=\"dataframe\">\n",
              "  <thead>\n",
              "    <tr style=\"text-align: right;\">\n",
              "      <th></th>\n",
              "      <th>category</th>\n",
              "      <th>customer_type</th>\n",
              "      <th>payment_type</th>\n",
              "    </tr>\n",
              "  </thead>\n",
              "  <tbody>\n",
              "    <tr>\n",
              "      <th>0</th>\n",
              "      <td>fruit</td>\n",
              "      <td>gold</td>\n",
              "      <td>e-wallet</td>\n",
              "    </tr>\n",
              "    <tr>\n",
              "      <th>1</th>\n",
              "      <td>fruit</td>\n",
              "      <td>standard</td>\n",
              "      <td>e-wallet</td>\n",
              "    </tr>\n",
              "    <tr>\n",
              "      <th>2</th>\n",
              "      <td>fruit</td>\n",
              "      <td>premium</td>\n",
              "      <td>e-wallet</td>\n",
              "    </tr>\n",
              "    <tr>\n",
              "      <th>3</th>\n",
              "      <td>fruit</td>\n",
              "      <td>gold</td>\n",
              "      <td>e-wallet</td>\n",
              "    </tr>\n",
              "    <tr>\n",
              "      <th>4</th>\n",
              "      <td>fruit</td>\n",
              "      <td>basic</td>\n",
              "      <td>debit card</td>\n",
              "    </tr>\n",
              "  </tbody>\n",
              "</table>\n",
              "</div>\n",
              "      <button class=\"colab-df-convert\" onclick=\"convertToInteractive('df-b8394af0-bf32-4cd9-a7e0-e247fe975c42')\"\n",
              "              title=\"Convert this dataframe to an interactive table.\"\n",
              "              style=\"display:none;\">\n",
              "        \n",
              "  <svg xmlns=\"http://www.w3.org/2000/svg\" height=\"24px\"viewBox=\"0 0 24 24\"\n",
              "       width=\"24px\">\n",
              "    <path d=\"M0 0h24v24H0V0z\" fill=\"none\"/>\n",
              "    <path d=\"M18.56 5.44l.94 2.06.94-2.06 2.06-.94-2.06-.94-.94-2.06-.94 2.06-2.06.94zm-11 1L8.5 8.5l.94-2.06 2.06-.94-2.06-.94L8.5 2.5l-.94 2.06-2.06.94zm10 10l.94 2.06.94-2.06 2.06-.94-2.06-.94-.94-2.06-.94 2.06-2.06.94z\"/><path d=\"M17.41 7.96l-1.37-1.37c-.4-.4-.92-.59-1.43-.59-.52 0-1.04.2-1.43.59L10.3 9.45l-7.72 7.72c-.78.78-.78 2.05 0 2.83L4 21.41c.39.39.9.59 1.41.59.51 0 1.02-.2 1.41-.59l7.78-7.78 2.81-2.81c.8-.78.8-2.07 0-2.86zM5.41 20L4 18.59l7.72-7.72 1.47 1.35L5.41 20z\"/>\n",
              "  </svg>\n",
              "      </button>\n",
              "      \n",
              "  <style>\n",
              "    .colab-df-container {\n",
              "      display:flex;\n",
              "      flex-wrap:wrap;\n",
              "      gap: 12px;\n",
              "    }\n",
              "\n",
              "    .colab-df-convert {\n",
              "      background-color: #E8F0FE;\n",
              "      border: none;\n",
              "      border-radius: 50%;\n",
              "      cursor: pointer;\n",
              "      display: none;\n",
              "      fill: #1967D2;\n",
              "      height: 32px;\n",
              "      padding: 0 0 0 0;\n",
              "      width: 32px;\n",
              "    }\n",
              "\n",
              "    .colab-df-convert:hover {\n",
              "      background-color: #E2EBFA;\n",
              "      box-shadow: 0px 1px 2px rgba(60, 64, 67, 0.3), 0px 1px 3px 1px rgba(60, 64, 67, 0.15);\n",
              "      fill: #174EA6;\n",
              "    }\n",
              "\n",
              "    [theme=dark] .colab-df-convert {\n",
              "      background-color: #3B4455;\n",
              "      fill: #D2E3FC;\n",
              "    }\n",
              "\n",
              "    [theme=dark] .colab-df-convert:hover {\n",
              "      background-color: #434B5C;\n",
              "      box-shadow: 0px 1px 3px 1px rgba(0, 0, 0, 0.15);\n",
              "      filter: drop-shadow(0px 1px 2px rgba(0, 0, 0, 0.3));\n",
              "      fill: #FFFFFF;\n",
              "    }\n",
              "  </style>\n",
              "\n",
              "      <script>\n",
              "        const buttonEl =\n",
              "          document.querySelector('#df-b8394af0-bf32-4cd9-a7e0-e247fe975c42 button.colab-df-convert');\n",
              "        buttonEl.style.display =\n",
              "          google.colab.kernel.accessAllowed ? 'block' : 'none';\n",
              "\n",
              "        async function convertToInteractive(key) {\n",
              "          const element = document.querySelector('#df-b8394af0-bf32-4cd9-a7e0-e247fe975c42');\n",
              "          const dataTable =\n",
              "            await google.colab.kernel.invokeFunction('convertToInteractive',\n",
              "                                                     [key], {});\n",
              "          if (!dataTable) return;\n",
              "\n",
              "          const docLinkHtml = 'Like what you see? Visit the ' +\n",
              "            '<a target=\"_blank\" href=https://colab.research.google.com/notebooks/data_table.ipynb>data table notebook</a>'\n",
              "            + ' to learn more about interactive tables.';\n",
              "          element.innerHTML = '';\n",
              "          dataTable['output_type'] = 'display_data';\n",
              "          await google.colab.output.renderOutput(dataTable, element);\n",
              "          const docLink = document.createElement('div');\n",
              "          docLink.innerHTML = docLinkHtml;\n",
              "          element.appendChild(docLink);\n",
              "        }\n",
              "      </script>\n",
              "    </div>\n",
              "  </div>\n",
              "  "
            ]
          },
          "metadata": {},
          "execution_count": 17
        }
      ],
      "source": [
        "#Creating a DataFrame of categorical, relaticely low-count columns\n",
        "df2= df[['category', 'customer_type', 'payment_type']]\n",
        "df2.head()"
      ]
    },
    {
      "cell_type": "code",
      "execution_count": 18,
      "metadata": {
        "colab": {
          "base_uri": "https://localhost:8080/",
          "height": 1000
        },
        "id": "zUyPbpu3dPY2",
        "outputId": "aa0ec835-31e1-454b-d475-6cdaf3ce1ecf"
      },
      "outputs": [
        {
          "output_type": "stream",
          "name": "stdout",
          "text": [
            "None\n",
            "None\n",
            "None\n"
          ]
        },
        {
          "output_type": "display_data",
          "data": {
            "text/plain": [
              "<Figure size 1152x576 with 1 Axes>"
            ],
            "image/png": "[encoded data removed]"
          },
          "metadata": {
            "needs_background": "light"
          }
        },
        {
          "output_type": "display_data",
          "data": {
            "text/plain": [
              "<Figure size 1152x576 with 1 Axes>"
            ],
            "image/png": "[encoded data removed]"
          },
          "metadata": {
            "needs_background": "light"
          }
        },
        {
          "output_type": "display_data",
          "data": {
            "text/plain": [
              "<Figure size 1152x576 with 1 Axes>"
            ],
            "image/png": "[encoded data removed]"
          },
          "metadata": {
            "needs_background": "light"
          }
        }
      ],
      "source": [
        "# Plotting those variables\n",
        "for cat_columns in df2:\n",
        "    print(plot_categorical_distribution(df, cat_columns))"
      ]
    },
    {
      "cell_type": "markdown",
      "metadata": {
        "id": "z-xLAoSAROIR"
      },
      "source": [
        "The category column and the time & transaction_id columns are not well rendered, so I'll use different graph from seaborn to plot them.\n",
        "\n",
        "I learned that the goods were bought in this rank depending on their quantity\n",
        "\n",
        "fruit                    0.127475\n",
        "\n",
        "vegetables               0.108060\n",
        "\n",
        "packaged foods           0.064759\n",
        "\n",
        "baked goods              0.056584\n",
        "\n",
        "canned foods             0.055052\n",
        "\n",
        "refrigerated items       0.054285 \n",
        "\n",
        "These are the top 6 items bought in the interval of time we are considering.\n",
        "\n",
        "There is not a huge gap either between different types of customer and also between payment types although I can notice a slight higher number for customers paying with cash and customers that are not member. \n",
        "\n",
        "This could mean that the business may need to motivate customer who do not use eletronic types of payment to do so and incentivise those who do not use memberships to join."
      ]
    },
    {
      "cell_type": "markdown",
      "source": [
        "*Because the timestamp column has a lot more granular values, I am running it separately and using a basic sns plot to minimize the time it takes to produce the chart.*"
      ],
      "metadata": {
        "id": "81kAA7bKZqGX"
      }
    },
    {
      "cell_type": "code",
      "source": [
        "sns.histplot(df, x='timestamp')"
      ],
      "metadata": {
        "colab": {
          "base_uri": "https://localhost:8080/",
          "height": 297
        },
        "id": "zZg8ajo4dg4W",
        "outputId": "efaebffb-4b99-4521-da76-607e1ad6b719"
      },
      "execution_count": 19,
      "outputs": [
        {
          "output_type": "execute_result",
          "data": {
            "text/plain": [
              "<matplotlib.axes._subplots.AxesSubplot at 0x7fea23a7de10>"
            ]
          },
          "metadata": {},
          "execution_count": 19
        },
        {
          "output_type": "display_data",
          "data": {
            "text/plain": [
              "<Figure size 432x288 with 1 Axes>"
            ],
            "image/png": "[encoded data removed]"
          },
          "metadata": {
            "needs_background": "light"
          }
        }
      ]
    },
    {
      "cell_type": "code",
      "source": [
        "# Making the imports to create an autocorrelation plot\n",
        "import numpy as np\n",
        "\n",
        "# Visualization imports\n",
        "import plotly.graph_objects as go\n",
        "import plotly.express as px\n",
        "from plotly.subplots import make_subplots\n",
        "\n",
        "# Stats and autocorrelation tools\n",
        "import statsmodels.api\n",
        "from statsmodels.tsa.stattools import acf"
      ],
      "metadata": {
        "id": "gDnCqJVXtrOn"
      },
      "execution_count": 21,
      "outputs": []
    },
    {
      "cell_type": "code",
      "source": [
        "def create_corr_plot(series, plot_pacf=False):\n",
        "    '''\n",
        "    using plotly express to plot an autocorrelation plot\n",
        "    '''\n",
        "    corr_array = acf(series.dropna(), alpha=0.05)\n",
        "    lower_y = corr_array[1][:,0] - corr_array[0]\n",
        "    upper_y = corr_array[1][:,1] - corr_array[0]\n",
        "\n",
        "    fig = go.Figure()\n",
        "    [fig.add_scatter(x=(x,x), y=(0,corr_array[0][x]), mode='lines',line_color='#3f3f3f') \n",
        "     for x in range(len(corr_array[0]))]\n",
        "    fig.add_scatter(x=np.arange(len(corr_array[0])), y=corr_array[0], mode='markers', marker_color='#1f77b4',\n",
        "                   marker_size=12)\n",
        "    fig.add_scatter(x=np.arange(len(corr_array[0])), y=upper_y, mode='lines', line_color='rgba(255,255,255,0)')\n",
        "    fig.add_scatter(x=np.arange(len(corr_array[0])), y=lower_y, mode='lines',fillcolor='rgba(32, 146, 230,0.3)',\n",
        "            fill='tonexty', line_color='rgba(255,255,255,0)')\n",
        "    fig.update_traces(showlegend=False)\n",
        "    fig.update_xaxes(range=[-1,42])\n",
        "    fig.update_yaxes(zerolinecolor='#000000')\n",
        "    \n",
        "    title='Autocorrelation (ACF)'\n",
        "    fig.update_layout(title=title)\n",
        "    fig.show()"
      ],
      "metadata": {
        "id": "wIIlnUYlsFaq"
      },
      "execution_count": 25,
      "outputs": []
    },
    {
      "cell_type": "markdown",
      "source": [
        "The histogram of the timestamp column shows me what the value_counts showed. That items bought twice at the same time are the rarest. This tells me that people may be buying things enough to cook and not in bulk.\n",
        "\n",
        "Checking the DataFrame using df[df['timestamp'] == '2022-03-02 19:32:20'] shows me that the two items baught were not related because it was purchased by two different customers with two different methods of payment, and are two different products. The same goes with all the other products bought at the same time. There are no products bought at the same time 3 of them. This does not help us in finding what needs to be stocled up because most products are bought in a unique manner They may be associated in a different way but not by the time of purchase."
      ],
      "metadata": {
        "id": "vDm5Cngu-PzK"
      }
    },
    {
      "cell_type": "code",
      "source": [
        "correlation_plot(df)"
      ],
      "metadata": {
        "colab": {
          "base_uri": "https://localhost:8080/",
          "height": 538
        },
        "id": "8WaGmCbIjWq_",
        "outputId": "36d1d9cb-4c74-40ee-f145-dd4cf4e14ad4"
      },
      "execution_count": 24,
      "outputs": [
        {
          "output_type": "display_data",
          "data": {
            "text/plain": [
              "<Figure size 792x648 with 2 Axes>"
            ],
            "image/png": "[encoded data removed]"
          },
          "metadata": {
            "needs_background": "light"
          }
        }
      ]
    },
    {
      "cell_type": "markdown",
      "source": [
        "The correlation heatmap does not show a siginficant amount of information about the correlation between the features in the DataFrame. There is not enough significant features to help find relevant correlation."
      ],
      "metadata": {
        "id": "kf5hx5hMD0Ri"
      }
    },
    {
      "cell_type": "code",
      "source": [
        "create_corr_plot(df.quantity)"
      ],
      "metadata": {
        "colab": {
          "base_uri": "https://localhost:8080/",
          "height": 542
        },
        "id": "5v2R6UJ4sf7X",
        "outputId": "26f70976-cccc-4b74-bc40-c3b26ca2da28"
      },
      "execution_count": 26,
      "outputs": [
        {
          "output_type": "display_data",
          "data": {
            "text/html": [
              "<html>\n",
              "<head><meta charset=\"utf-8\" /></head>\n",
              "<body>\n",
              "    <div>            <script src=\"https://cdnjs.cloudflare.com/ajax/libs/mathjax/2.7.5/MathJax.js?config=TeX-AMS-MML_SVG\"></script><script type=\"text/javascript\">if (window.MathJax) {MathJax.Hub.Config({SVG: {font: \"STIX-Web\"}});}</script>                <script type=\"text/javascript\">window.PlotlyConfig = {MathJaxConfig: 'local'};</script>\n",
              "        <script src=\"https://cdn.plot.ly/plotly-2.8.3.min.js\"></script>                <div id=\"755ac528-67a0-4c69-aae8-b645a5ed6186\" class=\"plotly-graph-div\" style=\"height:525px; width:100%;\"></div>            <script type=\"text/javascript\">                                    window.PLOTLYENV=window.PLOTLYENV || {};                                    if (document.getElementById(\"755ac528-67a0-4c69-aae8-b645a5ed6186\")) {                    Plotly.newPlot(                        \"755ac528-67a0-4c69-aae8-b645a5ed6186\",                        [{\"line\":{\"color\":\"#3f3f3f\"},\"mode\":\"lines\",\"x\":[0,0],\"y\":[0,1.0],\"type\":\"scatter\",\"showlegend\":false},{\"line\":{\"color\":\"#3f3f3f\"},\"mode\":\"lines\",\"x\":[1,1],\"y\":[0,0.01317306231580917],\"type\":\"scatter\",\"showlegend\":false},{\"line\":{\"color\":\"#3f3f3f\"},\"mode\":\"lines\",\"x\":[2,2],\"y\":[0,0.00357056980834092],\"type\":\"scatter\",\"showlegend\":false},{\"line\":{\"color\":\"#3f3f3f\"},\"mode\":\"lines\",\"x\":[3,3],\"y\":[0,0.0049639092525544295],\"type\":\"scatter\",\"showlegend\":false},{\"line\":{\"color\":\"#3f3f3f\"},\"mode\":\"lines\",\"x\":[4,4],\"y\":[0,0.004482517562188571],\"type\":\"scatter\",\"showlegend\":false},{\"line\":{\"color\":\"#3f3f3f\"},\"mode\":\"lines\",\"x\":[5,5],\"y\":[0,-0.010339433335113231],\"type\":\"scatter\",\"showlegend\":false},{\"line\":{\"color\":\"#3f3f3f\"},\"mode\":\"lines\",\"x\":[6,6],\"y\":[0,-0.00539867550637674],\"type\":\"scatter\",\"showlegend\":false},{\"line\":{\"color\":\"#3f3f3f\"},\"mode\":\"lines\",\"x\":[7,7],\"y\":[0,0.008308635474399632],\"type\":\"scatter\",\"showlegend\":false},{\"line\":{\"color\":\"#3f3f3f\"},\"mode\":\"lines\",\"x\":[8,8],\"y\":[0,0.010716077809590737],\"type\":\"scatter\",\"showlegend\":false},{\"line\":{\"color\":\"#3f3f3f\"},\"mode\":\"lines\",\"x\":[9,9],\"y\":[0,-0.01454446624506133],\"type\":\"scatter\",\"showlegend\":false},{\"line\":{\"color\":\"#3f3f3f\"},\"mode\":\"lines\",\"x\":[10,10],\"y\":[0,0.009753294428858849],\"type\":\"scatter\",\"showlegend\":false},{\"line\":{\"color\":\"#3f3f3f\"},\"mode\":\"lines\",\"x\":[11,11],\"y\":[0,0.01636576864058932],\"type\":\"scatter\",\"showlegend\":false},{\"line\":{\"color\":\"#3f3f3f\"},\"mode\":\"lines\",\"x\":[12,12],\"y\":[0,-0.01289743978364958],\"type\":\"scatter\",\"showlegend\":false},{\"line\":{\"color\":\"#3f3f3f\"},\"mode\":\"lines\",\"x\":[13,13],\"y\":[0,-0.009071806788208781],\"type\":\"scatter\",\"showlegend\":false},{\"line\":{\"color\":\"#3f3f3f\"},\"mode\":\"lines\",\"x\":[14,14],\"y\":[0,0.017354210743035326],\"type\":\"scatter\",\"showlegend\":false},{\"line\":{\"color\":\"#3f3f3f\"},\"mode\":\"lines\",\"x\":[15,15],\"y\":[0,0.016568458736449406],\"type\":\"scatter\",\"showlegend\":false},{\"line\":{\"color\":\"#3f3f3f\"},\"mode\":\"lines\",\"x\":[16,16],\"y\":[0,0.021002812364330017],\"type\":\"scatter\",\"showlegend\":false},{\"line\":{\"color\":\"#3f3f3f\"},\"mode\":\"lines\",\"x\":[17,17],\"y\":[0,0.00040416428286357424],\"type\":\"scatter\",\"showlegend\":false},{\"line\":{\"color\":\"#3f3f3f\"},\"mode\":\"lines\",\"x\":[18,18],\"y\":[0,0.006003506470565819],\"type\":\"scatter\",\"showlegend\":false},{\"line\":{\"color\":\"#3f3f3f\"},\"mode\":\"lines\",\"x\":[19,19],\"y\":[0,-0.001977133380434471],\"type\":\"scatter\",\"showlegend\":false},{\"line\":{\"color\":\"#3f3f3f\"},\"mode\":\"lines\",\"x\":[20,20],\"y\":[0,0.012287092772356754],\"type\":\"scatter\",\"showlegend\":false},{\"line\":{\"color\":\"#3f3f3f\"},\"mode\":\"lines\",\"x\":[21,21],\"y\":[0,-0.0033958099908632383],\"type\":\"scatter\",\"showlegend\":false},{\"line\":{\"color\":\"#3f3f3f\"},\"mode\":\"lines\",\"x\":[22,22],\"y\":[0,0.003115318656232778],\"type\":\"scatter\",\"showlegend\":false},{\"line\":{\"color\":\"#3f3f3f\"},\"mode\":\"lines\",\"x\":[23,23],\"y\":[0,-0.014291105950406188],\"type\":\"scatter\",\"showlegend\":false},{\"line\":{\"color\":\"#3f3f3f\"},\"mode\":\"lines\",\"x\":[24,24],\"y\":[0,-0.017052611033889404],\"type\":\"scatter\",\"showlegend\":false},{\"line\":{\"color\":\"#3f3f3f\"},\"mode\":\"lines\",\"x\":[25,25],\"y\":[0,0.01231242787175432],\"type\":\"scatter\",\"showlegend\":false},{\"line\":{\"color\":\"#3f3f3f\"},\"mode\":\"lines\",\"x\":[26,26],\"y\":[0,-0.0037761807723200604],\"type\":\"scatter\",\"showlegend\":false},{\"line\":{\"color\":\"#3f3f3f\"},\"mode\":\"lines\",\"x\":[27,27],\"y\":[0,-5.156971919723683e-05],\"type\":\"scatter\",\"showlegend\":false},{\"line\":{\"color\":\"#3f3f3f\"},\"mode\":\"lines\",\"x\":[28,28],\"y\":[0,0.009551084082724906],\"type\":\"scatter\",\"showlegend\":false},{\"line\":{\"color\":\"#3f3f3f\"},\"mode\":\"lines\",\"x\":[29,29],\"y\":[0,-0.00020358858285335777],\"type\":\"scatter\",\"showlegend\":false},{\"line\":{\"color\":\"#3f3f3f\"},\"mode\":\"lines\",\"x\":[30,30],\"y\":[0,0.00823342941461408],\"type\":\"scatter\",\"showlegend\":false},{\"line\":{\"color\":\"#3f3f3f\"},\"mode\":\"lines\",\"x\":[31,31],\"y\":[0,-0.01018612721605312],\"type\":\"scatter\",\"showlegend\":false},{\"line\":{\"color\":\"#3f3f3f\"},\"mode\":\"lines\",\"x\":[32,32],\"y\":[0,-0.007981699632447334],\"type\":\"scatter\",\"showlegend\":false},{\"line\":{\"color\":\"#3f3f3f\"},\"mode\":\"lines\",\"x\":[33,33],\"y\":[0,-0.010742881093614138],\"type\":\"scatter\",\"showlegend\":false},{\"line\":{\"color\":\"#3f3f3f\"},\"mode\":\"lines\",\"x\":[34,34],\"y\":[0,-0.011274460132822474],\"type\":\"scatter\",\"showlegend\":false},{\"line\":{\"color\":\"#3f3f3f\"},\"mode\":\"lines\",\"x\":[35,35],\"y\":[0,0.0006086306845333086],\"type\":\"scatter\",\"showlegend\":false},{\"line\":{\"color\":\"#3f3f3f\"},\"mode\":\"lines\",\"x\":[36,36],\"y\":[0,0.009096159653159717],\"type\":\"scatter\",\"showlegend\":false},{\"line\":{\"color\":\"#3f3f3f\"},\"mode\":\"lines\",\"x\":[37,37],\"y\":[0,0.03187373685756293],\"type\":\"scatter\",\"showlegend\":false},{\"line\":{\"color\":\"#3f3f3f\"},\"mode\":\"lines\",\"x\":[38,38],\"y\":[0,0.013757893298482688],\"type\":\"scatter\",\"showlegend\":false},{\"line\":{\"color\":\"#3f3f3f\"},\"mode\":\"lines\",\"x\":[39,39],\"y\":[0,0.012820284756103485],\"type\":\"scatter\",\"showlegend\":false},{\"line\":{\"color\":\"#3f3f3f\"},\"mode\":\"lines\",\"x\":[40,40],\"y\":[0,-0.0070181097794463675],\"type\":\"scatter\",\"showlegend\":false},{\"marker\":{\"color\":\"#1f77b4\",\"size\":12},\"mode\":\"markers\",\"x\":[0,1,2,3,4,5,6,7,8,9,10,11,12,13,14,15,16,17,18,19,20,21,22,23,24,25,26,27,28,29,30,31,32,33,34,35,36,37,38,39,40],\"y\":[1.0,0.01317306231580917,0.00357056980834092,0.0049639092525544295,0.004482517562188571,-0.010339433335113231,-0.00539867550637674,0.008308635474399632,0.010716077809590737,-0.01454446624506133,0.009753294428858849,0.01636576864058932,-0.01289743978364958,-0.009071806788208781,0.017354210743035326,0.016568458736449406,0.021002812364330017,0.00040416428286357424,0.006003506470565819,-0.001977133380434471,0.012287092772356754,-0.0033958099908632383,0.003115318656232778,-0.014291105950406188,-0.017052611033889404,0.01231242787175432,-0.0037761807723200604,-5.156971919723683e-05,0.009551084082724906,-0.00020358858285335777,0.00823342941461408,-0.01018612721605312,-0.007981699632447334,-0.010742881093614138,-0.011274460132822474,0.0006086306845333086,0.009096159653159717,0.03187373685756293,0.013757893298482688,0.012820284756103485,-0.0070181097794463675],\"type\":\"scatter\",\"showlegend\":false},{\"line\":{\"color\":\"rgba(255,255,255,0)\"},\"mode\":\"lines\",\"x\":[0,1,2,3,4,5,6,7,8,9,10,11,12,13,14,15,16,17,18,19,20,21,22,23,24,25,26,27,28,29,30,31,32,33,34,35,36,37,38,39,40],\"y\":[0.0,0.022151081984728274,0.02215492551902281,0.02215520787168313,0.02215575357472928,0.02215619855730053,0.022158565920618236,0.022159211301897516,0.02216073985321121,0.022163282303312253,0.02216796510222676,0.0221700705579157,0.02217599759410895,0.022179677847363376,0.022181498404928158,0.022188159467891145,0.022194229254634563,0.022203979360743555,0.022203982970475065,0.02220477942536043,0.022204865805622587,0.02220820166235096,0.02220845643967326,0.02220867086415521,0.022213182716581466,0.022219605127566808,0.02222295253239943,0.022223267372909316,0.02222326743162735,0.02222528146950574,0.02222528238456548,0.02222677892864515,0.022229069317253863,0.02223047551252539,0.022233022681722503,0.022235827827863236,0.022235836002043183,0.02223766172445333,0.022260066882277857,0.02226423871228452,0.022267860659011637],\"type\":\"scatter\",\"showlegend\":false},{\"fill\":\"tonexty\",\"fillcolor\":\"rgba(32, 146, 230,0.3)\",\"line\":{\"color\":\"rgba(255,255,255,0)\"},\"mode\":\"lines\",\"x\":[0,1,2,3,4,5,6,7,8,9,10,11,12,13,14,15,16,17,18,19,20,21,22,23,24,25,26,27,28,29,30,31,32,33,34,35,36,37,38,39,40],\"y\":[0.0,-0.02215108198472827,-0.02215492551902281,-0.02215520787168313,-0.02215575357472928,-0.022156198557300534,-0.022158565920618236,-0.022159211301897516,-0.02216073985321121,-0.02216328230331225,-0.022167965102226756,-0.022170070557915703,-0.022175997594108952,-0.02217967784736338,-0.022181498404928158,-0.02218815946789115,-0.022194229254634566,-0.022203979360743555,-0.022203982970475065,-0.02220477942536043,-0.022204865805622587,-0.02220820166235096,-0.02220845643967326,-0.022208670864155206,-0.02221318271658147,-0.022219605127566808,-0.02222295253239943,-0.022223267372909316,-0.022223267431627346,-0.02222528146950574,-0.02222528238456548,-0.022226778928645153,-0.022229069317253866,-0.02223047551252539,-0.022233022681722503,-0.022235827827863236,-0.022235836002043183,-0.022237661724453333,-0.022260066882277857,-0.022264238712284525,-0.022267860659011637],\"type\":\"scatter\",\"showlegend\":false}],                        {\"template\":{\"data\":{\"bar\":[{\"error_x\":{\"color\":\"#2a3f5f\"},\"error_y\":{\"color\":\"#2a3f5f\"},\"marker\":{\"line\":{\"color\":\"#E5ECF6\",\"width\":0.5},\"pattern\":{\"fillmode\":\"overlay\",\"size\":10,\"solidity\":0.2}},\"type\":\"bar\"}],\"barpolar\":[{\"marker\":{\"line\":{\"color\":\"#E5ECF6\",\"width\":0.5},\"pattern\":{\"fillmode\":\"overlay\",\"size\":10,\"solidity\":0.2}},\"type\":\"barpolar\"}],\"carpet\":[{\"aaxis\":{\"endlinecolor\":\"#2a3f5f\",\"gridcolor\":\"white\",\"linecolor\":\"white\",\"minorgridcolor\":\"white\",\"startlinecolor\":\"#2a3f5f\"},\"baxis\":{\"endlinecolor\":\"#2a3f5f\",\"gridcolor\":\"white\",\"linecolor\":\"white\",\"minorgridcolor\":\"white\",\"startlinecolor\":\"#2a3f5f\"},\"type\":\"carpet\"}],\"choropleth\":[{\"colorbar\":{\"outlinewidth\":0,\"ticks\":\"\"},\"type\":\"choropleth\"}],\"contour\":[{\"colorbar\":{\"outlinewidth\":0,\"ticks\":\"\"},\"colorscale\":[[0.0,\"#0d0887\"],[0.1111111111111111,\"#46039f\"],[0.2222222222222222,\"#7201a8\"],[0.3333333333333333,\"#9c179e\"],[0.4444444444444444,\"#bd3786\"],[0.5555555555555556,\"#d8576b\"],[0.6666666666666666,\"#ed7953\"],[0.7777777777777778,\"#fb9f3a\"],[0.8888888888888888,\"#fdca26\"],[1.0,\"#f0f921\"]],\"type\":\"contour\"}],\"contourcarpet\":[{\"colorbar\":{\"outlinewidth\":0,\"ticks\":\"\"},\"type\":\"contourcarpet\"}],\"heatmap\":[{\"colorbar\":{\"outlinewidth\":0,\"ticks\":\"\"},\"colorscale\":[[0.0,\"#0d0887\"],[0.1111111111111111,\"#46039f\"],[0.2222222222222222,\"#7201a8\"],[0.3333333333333333,\"#9c179e\"],[0.4444444444444444,\"#bd3786\"],[0.5555555555555556,\"#d8576b\"],[0.6666666666666666,\"#ed7953\"],[0.7777777777777778,\"#fb9f3a\"],[0.8888888888888888,\"#fdca26\"],[1.0,\"#f0f921\"]],\"type\":\"heatmap\"}],\"heatmapgl\":[{\"colorbar\":{\"outlinewidth\":0,\"ticks\":\"\"},\"colorscale\":[[0.0,\"#0d0887\"],[0.1111111111111111,\"#46039f\"],[0.2222222222222222,\"#7201a8\"],[0.3333333333333333,\"#9c179e\"],[0.4444444444444444,\"#bd3786\"],[0.5555555555555556,\"#d8576b\"],[0.6666666666666666,\"#ed7953\"],[0.7777777777777778,\"#fb9f3a\"],[0.8888888888888888,\"#fdca26\"],[1.0,\"#f0f921\"]],\"type\":\"heatmapgl\"}],\"histogram\":[{\"marker\":{\"pattern\":{\"fillmode\":\"overlay\",\"size\":10,\"solidity\":0.2}},\"type\":\"histogram\"}],\"histogram2d\":[{\"colorbar\":{\"outlinewidth\":0,\"ticks\":\"\"},\"colorscale\":[[0.0,\"#0d0887\"],[0.1111111111111111,\"#46039f\"],[0.2222222222222222,\"#7201a8\"],[0.3333333333333333,\"#9c179e\"],[0.4444444444444444,\"#bd3786\"],[0.5555555555555556,\"#d8576b\"],[0.6666666666666666,\"#ed7953\"],[0.7777777777777778,\"#fb9f3a\"],[0.8888888888888888,\"#fdca26\"],[1.0,\"#f0f921\"]],\"type\":\"histogram2d\"}],\"histogram2dcontour\":[{\"colorbar\":{\"outlinewidth\":0,\"ticks\":\"\"},\"colorscale\":[[0.0,\"#0d0887\"],[0.1111111111111111,\"#46039f\"],[0.2222222222222222,\"#7201a8\"],[0.3333333333333333,\"#9c179e\"],[0.4444444444444444,\"#bd3786\"],[0.5555555555555556,\"#d8576b\"],[0.6666666666666666,\"#ed7953\"],[0.7777777777777778,\"#fb9f3a\"],[0.8888888888888888,\"#fdca26\"],[1.0,\"#f0f921\"]],\"type\":\"histogram2dcontour\"}],\"mesh3d\":[{\"colorbar\":{\"outlinewidth\":0,\"ticks\":\"\"},\"type\":\"mesh3d\"}],\"parcoords\":[{\"line\":{\"colorbar\":{\"outlinewidth\":0,\"ticks\":\"\"}},\"type\":\"parcoords\"}],\"pie\":[{\"automargin\":true,\"type\":\"pie\"}],\"scatter\":[{\"marker\":{\"colorbar\":{\"outlinewidth\":0,\"ticks\":\"\"}},\"type\":\"scatter\"}],\"scatter3d\":[{\"line\":{\"colorbar\":{\"outlinewidth\":0,\"ticks\":\"\"}},\"marker\":{\"colorbar\":{\"outlinewidth\":0,\"ticks\":\"\"}},\"type\":\"scatter3d\"}],\"scattercarpet\":[{\"marker\":{\"colorbar\":{\"outlinewidth\":0,\"ticks\":\"\"}},\"type\":\"scattercarpet\"}],\"scattergeo\":[{\"marker\":{\"colorbar\":{\"outlinewidth\":0,\"ticks\":\"\"}},\"type\":\"scattergeo\"}],\"scattergl\":[{\"marker\":{\"colorbar\":{\"outlinewidth\":0,\"ticks\":\"\"}},\"type\":\"scattergl\"}],\"scattermapbox\":[{\"marker\":{\"colorbar\":{\"outlinewidth\":0,\"ticks\":\"\"}},\"type\":\"scattermapbox\"}],\"scatterpolar\":[{\"marker\":{\"colorbar\":{\"outlinewidth\":0,\"ticks\":\"\"}},\"type\":\"scatterpolar\"}],\"scatterpolargl\":[{\"marker\":{\"colorbar\":{\"outlinewidth\":0,\"ticks\":\"\"}},\"type\":\"scatterpolargl\"}],\"scatterternary\":[{\"marker\":{\"colorbar\":{\"outlinewidth\":0,\"ticks\":\"\"}},\"type\":\"scatterternary\"}],\"surface\":[{\"colorbar\":{\"outlinewidth\":0,\"ticks\":\"\"},\"colorscale\":[[0.0,\"#0d0887\"],[0.1111111111111111,\"#46039f\"],[0.2222222222222222,\"#7201a8\"],[0.3333333333333333,\"#9c179e\"],[0.4444444444444444,\"#bd3786\"],[0.5555555555555556,\"#d8576b\"],[0.6666666666666666,\"#ed7953\"],[0.7777777777777778,\"#fb9f3a\"],[0.8888888888888888,\"#fdca26\"],[1.0,\"#f0f921\"]],\"type\":\"surface\"}],\"table\":[{\"cells\":{\"fill\":{\"color\":\"#EBF0F8\"},\"line\":{\"color\":\"white\"}},\"header\":{\"fill\":{\"color\":\"#C8D4E3\"},\"line\":{\"color\":\"white\"}},\"type\":\"table\"}]},\"layout\":{\"annotationdefaults\":{\"arrowcolor\":\"#2a3f5f\",\"arrowhead\":0,\"arrowwidth\":1},\"autotypenumbers\":\"strict\",\"coloraxis\":{\"colorbar\":{\"outlinewidth\":0,\"ticks\":\"\"}},\"colorscale\":{\"diverging\":[[0,\"#8e0152\"],[0.1,\"#c51b7d\"],[0.2,\"#de77ae\"],[0.3,\"#f1b6da\"],[0.4,\"#fde0ef\"],[0.5,\"#f7f7f7\"],[0.6,\"#e6f5d0\"],[0.7,\"#b8e186\"],[0.8,\"#7fbc41\"],[0.9,\"#4d9221\"],[1,\"#276419\"]],\"sequential\":[[0.0,\"#0d0887\"],[0.1111111111111111,\"#46039f\"],[0.2222222222222222,\"#7201a8\"],[0.3333333333333333,\"#9c179e\"],[0.4444444444444444,\"#bd3786\"],[0.5555555555555556,\"#d8576b\"],[0.6666666666666666,\"#ed7953\"],[0.7777777777777778,\"#fb9f3a\"],[0.8888888888888888,\"#fdca26\"],[1.0,\"#f0f921\"]],\"sequentialminus\":[[0.0,\"#0d0887\"],[0.1111111111111111,\"#46039f\"],[0.2222222222222222,\"#7201a8\"],[0.3333333333333333,\"#9c179e\"],[0.4444444444444444,\"#bd3786\"],[0.5555555555555556,\"#d8576b\"],[0.6666666666666666,\"#ed7953\"],[0.7777777777777778,\"#fb9f3a\"],[0.8888888888888888,\"#fdca26\"],[1.0,\"#f0f921\"]]},\"colorway\":[\"#636efa\",\"#EF553B\",\"#00cc96\",\"#ab63fa\",\"#FFA15A\",\"#19d3f3\",\"#FF6692\",\"#B6E880\",\"#FF97FF\",\"#FECB52\"],\"font\":{\"color\":\"#2a3f5f\"},\"geo\":{\"bgcolor\":\"white\",\"lakecolor\":\"white\",\"landcolor\":\"#E5ECF6\",\"showlakes\":true,\"showland\":true,\"subunitcolor\":\"white\"},\"hoverlabel\":{\"align\":\"left\"},\"hovermode\":\"closest\",\"mapbox\":{\"style\":\"light\"},\"paper_bgcolor\":\"white\",\"plot_bgcolor\":\"#E5ECF6\",\"polar\":{\"angularaxis\":{\"gridcolor\":\"white\",\"linecolor\":\"white\",\"ticks\":\"\"},\"bgcolor\":\"#E5ECF6\",\"radialaxis\":{\"gridcolor\":\"white\",\"linecolor\":\"white\",\"ticks\":\"\"}},\"scene\":{\"xaxis\":{\"backgroundcolor\":\"#E5ECF6\",\"gridcolor\":\"white\",\"gridwidth\":2,\"linecolor\":\"white\",\"showbackground\":true,\"ticks\":\"\",\"zerolinecolor\":\"white\"},\"yaxis\":{\"backgroundcolor\":\"#E5ECF6\",\"gridcolor\":\"white\",\"gridwidth\":2,\"linecolor\":\"white\",\"showbackground\":true,\"ticks\":\"\",\"zerolinecolor\":\"white\"},\"zaxis\":{\"backgroundcolor\":\"#E5ECF6\",\"gridcolor\":\"white\",\"gridwidth\":2,\"linecolor\":\"white\",\"showbackground\":true,\"ticks\":\"\",\"zerolinecolor\":\"white\"}},\"shapedefaults\":{\"line\":{\"color\":\"#2a3f5f\"}},\"ternary\":{\"aaxis\":{\"gridcolor\":\"white\",\"linecolor\":\"white\",\"ticks\":\"\"},\"baxis\":{\"gridcolor\":\"white\",\"linecolor\":\"white\",\"ticks\":\"\"},\"bgcolor\":\"#E5ECF6\",\"caxis\":{\"gridcolor\":\"white\",\"linecolor\":\"white\",\"ticks\":\"\"}},\"title\":{\"x\":0.05},\"xaxis\":{\"automargin\":true,\"gridcolor\":\"white\",\"linecolor\":\"white\",\"ticks\":\"\",\"title\":{\"standoff\":15},\"zerolinecolor\":\"white\",\"zerolinewidth\":2},\"yaxis\":{\"automargin\":true,\"gridcolor\":\"white\",\"linecolor\":\"white\",\"ticks\":\"\",\"title\":{\"standoff\":15},\"zerolinecolor\":\"white\",\"zerolinewidth\":2}}},\"xaxis\":{\"range\":[-1,42]},\"yaxis\":{\"zerolinecolor\":\"#000000\"},\"title\":{\"text\":\"Autocorrelation (ACF)\"}},                        {\"responsive\": true}                    ).then(function(){\n",
              "                            \n",
              "var gd = document.getElementById('755ac528-67a0-4c69-aae8-b645a5ed6186');\n",
              "var x = new MutationObserver(function (mutations, observer) {{\n",
              "        var display = window.getComputedStyle(gd).display;\n",
              "        if (!display || display === 'none') {{\n",
              "            console.log([gd, 'removed!']);\n",
              "            Plotly.purge(gd);\n",
              "            observer.disconnect();\n",
              "        }}\n",
              "}});\n",
              "\n",
              "// Listen for the removal of the full notebook cells\n",
              "var notebookContainer = gd.closest('#notebook-container');\n",
              "if (notebookContainer) {{\n",
              "    x.observe(notebookContainer, {childList: true});\n",
              "}}\n",
              "\n",
              "// Listen for the clearing of the current output cell\n",
              "var outputEl = gd.closest('.output');\n",
              "if (outputEl) {{\n",
              "    x.observe(outputEl, {childList: true});\n",
              "}}\n",
              "\n",
              "                        })                };                            </script>        </div>\n",
              "</body>\n",
              "</html>"
            ]
          },
          "metadata": {}
        }
      ]
    },
    {
      "cell_type": "markdown",
      "source": [
        "This autocorrelation map shows that quantity fluctuates slightly overtime with some sort of pattern but there is not enough data to draw any conclusions"
      ],
      "metadata": {
        "id": "dARpNFCnEYPc"
      }
    },
    {
      "cell_type": "markdown",
      "metadata": {
        "id": "oBin5kdG4iS0"
      },
      "source": [
        "---\n",
        "\n",
        "## Section 5 - Summary\n",
        "\n",
        "We have completed an initial exploratory data analysis on the sample of data provided. We should now have a solid understanding of the data. \n",
        "\n",
        "The client wants to know\n",
        "\n",
        "```\n",
        "\"How to better stock the items that they sell\"\n",
        "```\n",
        "\n",
        "From this dataset, it is impossible to answer that question. In order to make the next step on this project with the client, it is clear that:\n",
        "\n",
        "- We need more rows of data. The current sample is only from 1 store and 1 week worth of data\n",
        "- We need to frame the specific problem statement that we want to solve. The current business problem is too broad, we should narrow down the focus in order to deliver a valuable end product\n",
        "- We need more features. Based on the problem statement that we move forward with, we need more columns (features) that may help us to understand the outcome that we're solving for\n",
        "\n"
      ]
    }
  ],
  "metadata": {
    "colab": {
      "collapsed_sections": [],
      "provenance": [],
      "include_colab_link": true
    },
    "kernelspec": {
      "display_name": "Python 3",
      "name": "python3"
    },
    "language_info": {
      "name": "python"
    }
  },
  "nbformat": 4,
  "nbformat_minor": 0
}